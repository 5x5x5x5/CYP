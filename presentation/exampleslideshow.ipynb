{
 "metadata": {
  "name": "",
  "signature": "sha256:63ce42927e1b73bc0654e8ea90b5095e4a4d4390f7bea2e3d69be663d106d577"
 },
 "nbformat": 3,
 "nbformat_minor": 0,
 "worksheets": []
}