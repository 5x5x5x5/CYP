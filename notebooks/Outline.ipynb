{
 "metadata": {
  "name": "",
  "signature": "sha256:a04f85499566b9b0876b2f6dc97c09d492fd4ac21feb22d47eeecf4c2527b7c2"
 },
 "nbformat": 3,
 "nbformat_minor": 0,
 "worksheets": [
  {
   "cells": [
    {
     "cell_type": "heading",
     "level": 1,
     "metadata": {},
     "source": [
      "Modeling tools for QSAR"
     ]
    },
    {
     "cell_type": "heading",
     "level": 3,
     "metadata": {},
     "source": [
      "(Quantitative Structure Activity Relationship)"
     ]
    },
    {
     "cell_type": "markdown",
     "metadata": {},
     "source": [
      "This analysis uses data from a high-throughput screen of inhibitors of five isozymes of Cytochrome P450.\n",
      "\n",
      "Cytochrome P450s are arguably the most important class of enzymes in drug metabolism and xenobiotic clearance. CYPs catalyze the oxidation of organic substances, which frequently has the effect of making the substrate more hydrophilic, soluble and excretable.\n",
      "\n",
      "Substances that interfere with CYPs have the potential to upset the metabolism of any other concurrently administered pharmaceutical substances. Therefore incidental CYP inhibition is a constant concern in drug development and a frequent cause of drug candidate failure.\n",
      "\n",
      "In silico screening for CYP inhibition would save alot of time and money during drug development."
     ]
    },
    {
     "cell_type": "code",
     "collapsed": false,
     "input": [
      "import sys\n",
      "sys.version"
     ],
     "language": "python",
     "metadata": {},
     "outputs": [
      {
       "metadata": {},
       "output_type": "pyout",
       "prompt_number": 1,
       "text": [
        "'3.3.5 |Anaconda 1.9.2 (64-bit)| (default, Mar 10 2014, 11:19:31) \\n[GCC 4.1.2 20080704 (Red Hat 4.1.2-54)]'"
       ]
      }
     ],
     "prompt_number": 1
    },
    {
     "cell_type": "code",
     "collapsed": false,
     "input": [
      "import numpy as np\n",
      "np.version.version"
     ],
     "language": "python",
     "metadata": {},
     "outputs": [
      {
       "metadata": {},
       "output_type": "pyout",
       "prompt_number": 2,
       "text": [
        "'1.8.0'"
       ]
      }
     ],
     "prompt_number": 2
    },
    {
     "cell_type": "code",
     "collapsed": false,
     "input": [
      "import pandas as pd\n",
      "pd.version.version"
     ],
     "language": "python",
     "metadata": {},
     "outputs": [
      {
       "metadata": {},
       "output_type": "pyout",
       "prompt_number": 3,
       "text": [
        "'0.13.1'"
       ]
      }
     ],
     "prompt_number": 3
    },
    {
     "cell_type": "code",
     "collapsed": false,
     "input": [
      "%timeit np.linalg.eigvals(np.random.rand(100,100))"
     ],
     "language": "python",
     "metadata": {},
     "outputs": [
      {
       "output_type": "stream",
       "stream": "stdout",
       "text": [
        "100 loops, best of 3: 17.8 ms per loop\n"
       ]
      }
     ],
     "prompt_number": 5
    },
    {
     "cell_type": "heading",
     "level": 3,
     "metadata": {},
     "source": [
      "Reproducible research"
     ]
    },
    {
     "cell_type": "markdown",
     "metadata": {},
     "source": [
      "* Do good science. Nothing is better at dimensionality reduction than asking a focused, well-considered question.\n",
      "* Precisely document things done by hand (or in spreadsheet or GUI)\n",
      "* Code and script as much as possible\n",
      "* Use a version control system\n",
      "* Document the software environment\n",
      "* Only save output that cannot be resconstructed from original data + code (except for presentation purposes)\n",
      "* Set seed whenever random numbers are generated for a non-trivial purpose\n",
      "* Automate as much of the analysis pipline as possible\n",
      " * Raw data -> processed data -> analysis -> report"
     ]
    },
    {
     "cell_type": "code",
     "collapsed": false,
     "input": [],
     "language": "python",
     "metadata": {},
     "outputs": []
    },
    {
     "cell_type": "heading",
     "level": 3,
     "metadata": {},
     "source": [
      "Getting Data"
     ]
    },
    {
     "cell_type": "markdown",
     "metadata": {},
     "source": [
      "Assay data from: \n",
      "\n",
      "**Comprehansive Characterization of Cytochrome P450 Isozyme Selectivity across Chemical Libraries** *Nat Biotechnology.* November ; 27(11): 1050-1055. doi:10.1038/nbt.1851\n",
      "\n",
      "The assay results and the chemical structure of substances tested are available as separately. I downloaded both files and manually merged them in a spreadsheet, merging on the SID number (Substance ID) with no mismatches. \n",
      "\n",
      "The Molecular Operating Environment loaded the merged .csv into a proprietary database format. MOE preprocessed the molecular structure of all ligands by calculating their 'washed' or aqueous 3-D configurations. The 'washed' configurations were used to generate molecular descriptors. \n",
      "\n",
      "The resulting file was saved as a .csv, uploaded and made publicly available on www.figshare.com under the name supermergewashdescriptors.txt\n",
      "\n",
      "The command below is used to download the processed data."
     ]
    },
    {
     "cell_type": "code",
     "collapsed": false,
     "input": [
      "!wget http://files.figshare.com/1471460/supermergewashdescriptors.txt"
     ],
     "language": "python",
     "metadata": {},
     "outputs": [
      {
       "output_type": "stream",
       "stream": "stdout",
       "text": [
        "--2014-05-09 18:31:03--  http://files.figshare.com/1471460/supermergewashdescriptors.txt\r\n",
        "Resolving files.figshare.com (files.figshare.com)... "
       ]
      },
      {
       "output_type": "stream",
       "stream": "stdout",
       "text": [
        "54.239.34.4\r\n",
        "Connecting to files.figshare.com (files.figshare.com)|54.239.34.4|:80... "
       ]
      },
      {
       "output_type": "stream",
       "stream": "stdout",
       "text": [
        "connected.\r\n",
        "HTTP request sent, awaiting response... "
       ]
      },
      {
       "output_type": "stream",
       "stream": "stdout",
       "text": [
        "200 OK\r\n",
        "Length: 49148674 (47M) [text/plain]\r\n",
        "Saving to: 'supermergewashdescriptors.txt'\r\n",
        "\r\n",
        "\r",
        " 0% [                                       ] 0           --.-K/s              "
       ]
      },
      {
       "output_type": "stream",
       "stream": "stdout",
       "text": [
        "\r",
        " 0% [                                       ] 43,679       211KB/s             "
       ]
      },
      {
       "output_type": "stream",
       "stream": "stdout",
       "text": [
        "\r",
        " 0% [                                       ] 94,779       212KB/s             "
       ]
      },
      {
       "output_type": "stream",
       "stream": "stdout",
       "text": [
        "\r",
        " 0% [                                       ] 157,559      241KB/s             "
       ]
      },
      {
       "output_type": "stream",
       "stream": "stdout",
       "text": [
        "\r",
        " 0% [                                       ] 252,459      282KB/s             "
       ]
      },
      {
       "output_type": "stream",
       "stream": "stdout",
       "text": [
        "\r",
        " 0% [                                       ] 370,719      337KB/s             "
       ]
      },
      {
       "output_type": "stream",
       "stream": "stdout",
       "text": [
        "\r",
        " 1% [                                       ] 528,399      394KB/s             "
       ]
      },
      {
       "output_type": "stream",
       "stream": "stdout",
       "text": [
        "\r",
        " 1% [                                       ] 729,879      472KB/s             "
       ]
      },
      {
       "output_type": "stream",
       "stream": "stdout",
       "text": [
        "\r",
        " 1% [                                       ] 978,079      558KB/s             "
       ]
      },
      {
       "output_type": "stream",
       "stream": "stdout",
       "text": [
        "\r",
        " 2% [>                                      ] 1,270,079    646KB/s             "
       ]
      },
      {
       "output_type": "stream",
       "stream": "stdout",
       "text": [
        "\r",
        " 3% [>                                      ] 1,725,599    794KB/s             "
       ]
      },
      {
       "output_type": "stream",
       "stream": "stdout",
       "text": [
        "\r",
        " 4% [>                                      ] 2,297,919    966KB/s             "
       ]
      },
      {
       "output_type": "stream",
       "stream": "stdout",
       "text": [
        "\r",
        " 5% [=>                                     ] 2,940,319   1.11MB/s             "
       ]
      },
      {
       "output_type": "stream",
       "stream": "stdout",
       "text": [
        "\r",
        " 7% [==>                                    ] 3,784,199   1.32MB/s             "
       ]
      },
      {
       "output_type": "stream",
       "stream": "stdout",
       "text": [
        "\r",
        " 9% [==>                                    ] 4,750,719   1.54MB/s             "
       ]
      },
      {
       "output_type": "stream",
       "stream": "stdout",
       "text": [
        "\r",
        "11% [===>                                   ] 5,761,039   1.75MB/s  eta 24s    "
       ]
      },
      {
       "output_type": "stream",
       "stream": "stdout",
       "text": [
        "\r",
        "14% [====>                                  ] 7,034,159   2.01MB/s  eta 24s    "
       ]
      },
      {
       "output_type": "stream",
       "stream": "stdout",
       "text": [
        "\r",
        "17% [=====>                                 ] 8,412,399   2.26MB/s  eta 24s    "
       ]
      },
      {
       "output_type": "stream",
       "stream": "stdout",
       "text": [
        "\r",
        "20% [======>                                ] 9,889,919   2.62MB/s  eta 24s    "
       ]
      },
      {
       "output_type": "stream",
       "stream": "stdout",
       "text": [
        "\r",
        "23% [========>                              ] 11,676,959  3.21MB/s  eta 24s    "
       ]
      },
      {
       "output_type": "stream",
       "stream": "stdout",
       "text": [
        "\r",
        "27% [=========>                             ] 13,573,499  3.70MB/s  eta 11s    "
       ]
      },
      {
       "output_type": "stream",
       "stream": "stdout",
       "text": [
        "\r",
        "31% [===========>                           ] 15,575,159  4.18MB/s  eta 11s    "
       ]
      },
      {
       "output_type": "stream",
       "stream": "stdout",
       "text": [
        "\r",
        "36% [=============>                         ] 17,960,799  4.99MB/s  eta 11s    "
       ]
      },
      {
       "output_type": "stream",
       "stream": "stdout",
       "text": [
        "\r",
        "41% [===============>                       ] 20,495,359  5.63MB/s  eta 11s    "
       ]
      },
      {
       "output_type": "stream",
       "stream": "stdout",
       "text": [
        "\r",
        "47% [=================>                     ] 23,253,299  6.30MB/s  eta 11s    "
       ]
      },
      {
       "output_type": "stream",
       "stream": "stdout",
       "text": [
        "\r",
        "53% [====================>                  ] 26,497,419  7.39MB/s  eta 4s     "
       ]
      },
      {
       "output_type": "stream",
       "stream": "stdout",
       "text": [
        "\r",
        "60% [======================>                ] 29,896,299  8.21MB/s  eta 4s     "
       ]
      },
      {
       "output_type": "stream",
       "stream": "stdout",
       "text": [
        "\r",
        "68% [=========================>             ] 33,493,739  9.03MB/s  eta 4s     "
       ]
      },
      {
       "output_type": "stream",
       "stream": "stdout",
       "text": [
        "\r",
        "75% [============================>          ] 36,936,419  10.1MB/s  eta 4s     "
       ]
      },
      {
       "output_type": "stream",
       "stream": "stdout",
       "text": [
        "\r",
        "83% [===============================>       ] 40,866,739  11.0MB/s  eta 4s     "
       ]
      },
      {
       "output_type": "stream",
       "stream": "stdout",
       "text": [
        "\r",
        "90% [==================================>    ] 44,453,959  11.7MB/s  eta 1s     "
       ]
      },
      {
       "output_type": "stream",
       "stream": "stdout",
       "text": [
        "\r",
        "97% [====================================>  ] 47,851,379  12.7MB/s  eta 1s     "
       ]
      },
      {
       "output_type": "stream",
       "stream": "stdout",
       "text": [
        "\r",
        "100%[======================================>] 49,148,674  12.8MB/s   in 6.5s   \r\n",
        "\r\n",
        "2014-05-09 18:31:10 (7.25 MB/s) - 'supermergewashdescriptors.txt' saved [49148674/49148674]\r\n",
        "\r\n"
       ]
      }
     ],
     "prompt_number": 6
    },
    {
     "cell_type": "code",
     "collapsed": false,
     "input": [
      "mv supermergewashdescriptors.txt data/supermergewashdescriptors.txt"
     ],
     "language": "python",
     "metadata": {},
     "outputs": [],
     "prompt_number": 16
    },
    {
     "cell_type": "heading",
     "level": 3,
     "metadata": {},
     "source": [
      "And now the automated way to get the data"
     ]
    },
    {
     "cell_type": "code",
     "collapsed": false,
     "input": [
      "# Download bioassy data directly from PubChem\n",
      "!wget ftp://ftp-private.ncbi.nlm.nih.gov/pubchem/.fetch/76/651210585800200599.csv -P data/"
     ],
     "language": "python",
     "metadata": {},
     "outputs": [
      {
       "output_type": "stream",
       "stream": "stdout",
       "text": [
        "--2014-05-28 17:11:18--  ftp://ftp-private.ncbi.nlm.nih.gov/pubchem/.fetch/76/651210585800200599.csv\r\n",
        "           => 'data/651210585800200599.csv'\r\n",
        "Resolving ftp-private.ncbi.nlm.nih.gov (ftp-private.ncbi.nlm.nih.gov)... "
       ]
      },
      {
       "output_type": "stream",
       "stream": "stdout",
       "text": [
        "130.14.29.30\r\n",
        "Connecting to ftp-private.ncbi.nlm.nih.gov (ftp-private.ncbi.nlm.nih.gov)|130.14.29.30|:21... connected.\r\n",
        "Logging in as anonymous ... Logged in!\r\n",
        "==> SYST ... done.    ==> PWD ... done.\r\n",
        "==> TYPE I ... "
       ]
      },
      {
       "output_type": "stream",
       "stream": "stdout",
       "text": [
        "done.  ==> CWD (1) /pubchem/.fetch/76 ... done.\r\n",
        "==> SIZE 651210585800200599.csv ... done.\r\n",
        "==> PASV ... done.    ==> RETR 651210585800200599.csv ... \r\n",
        "No such file '651210585800200599.csv'.\r\n",
        "\r\n"
       ]
      }
     ],
     "prompt_number": 1
    },
    {
     "cell_type": "code",
     "collapsed": false,
     "input": [
      "pwd"
     ],
     "language": "python",
     "metadata": {},
     "outputs": [
      {
       "metadata": {},
       "output_type": "pyout",
       "prompt_number": 22,
       "text": [
        "'/home/ubuntu/kin'"
       ]
      }
     ],
     "prompt_number": 22
    },
    {
     "cell_type": "code",
     "collapsed": false,
     "input": [
      "# Rename file into something easier to work with.\n",
      "!cp data/651210585800200599.csv data/1851bioassay.csv"
     ],
     "language": "python",
     "metadata": {},
     "outputs": [],
     "prompt_number": 23
    },
    {
     "cell_type": "code",
     "collapsed": false,
     "input": [
      "# Download the molecular structures directly from PubChem\n",
      "!wget ftp://ftp-private.ncbi.nlm.nih.gov/pubchem/.fetch/43/4334155645825289062.txt -P data/"
     ],
     "language": "python",
     "metadata": {},
     "outputs": [
      {
       "output_type": "stream",
       "stream": "stdout",
       "text": [
        "--2014-05-09 18:41:53--  ftp://ftp-private.ncbi.nlm.nih.gov/pubchem/.fetch/43/4334155645825289062.txt\r\n",
        "           => 'data/4334155645825289062.txt'\r\n",
        "Resolving ftp-private.ncbi.nlm.nih.gov (ftp-private.ncbi.nlm.nih.gov)... 130.14.29.30\r\n",
        "Connecting to ftp-private.ncbi.nlm.nih.gov (ftp-private.ncbi.nlm.nih.gov)|130.14.29.30|:21... connected.\r\n",
        "Logging in as anonymous ... "
       ]
      },
      {
       "output_type": "stream",
       "stream": "stdout",
       "text": [
        "Logged in!\r\n",
        "==> SYST ... done.    ==> PWD ... done.\r\n",
        "==> TYPE I ... done.  ==> CWD (1) /pubchem/.fetch/43 ... done.\r\n",
        "==> SIZE 4334155645825289062.txt ... 1051404\r\n",
        "==> PASV ... done.    ==> RETR 4334155645825289062.txt ... "
       ]
      },
      {
       "output_type": "stream",
       "stream": "stdout",
       "text": [
        "done.\r\n",
        "Length: 1051404 (1.0M) (unauthoritative)\r\n",
        "\r\n",
        "\r",
        " 0% [                                       ] 0           --.-K/s              "
       ]
      },
      {
       "output_type": "stream",
       "stream": "stdout",
       "text": [
        "\r",
        "100%[======================================>] 1,051,404   --.-K/s   in 0.1s    \r\n",
        "\r\n"
       ]
      },
      {
       "output_type": "stream",
       "stream": "stdout",
       "text": [
        "2014-05-09 18:41:53 (10.3 MB/s) - 'data/4334155645825289062.txt' saved [1051404]\r\n",
        "\r\n"
       ]
      }
     ],
     "prompt_number": 24
    },
    {
     "cell_type": "code",
     "collapsed": false,
     "input": [
      "# Rename file into something easier to work with.\n",
      "!cp data/4334155645825289062.txt data/1851smiles.txt"
     ],
     "language": "python",
     "metadata": {},
     "outputs": [],
     "prompt_number": 25
    },
    {
     "cell_type": "code",
     "collapsed": false,
     "input": [
      "# Load the data into a DataFrame\n",
      "bioassay = pd.read_csv('data/1851bioassay.csv')"
     ],
     "language": "python",
     "metadata": {},
     "outputs": [
      {
       "output_type": "stream",
       "stream": "stderr",
       "text": [
        "/home/ubuntu/miniconda3/lib/python3.3/site-packages/pandas/io/parsers.py:1070: DtypeWarning: Columns (12) have mixed types. Specify dtype option on import or set low_memory=False.\n",
        "  data = self._reader.read(nrows)\n"
       ]
      }
     ],
     "prompt_number": 27
    },
    {
     "cell_type": "code",
     "collapsed": false,
     "input": [
      "# Inspect the first three rows of the DataFrame.\n",
      "bioassay.head(3)"
     ],
     "language": "python",
     "metadata": {},
     "outputs": [
      {
       "html": [
        "<div style=\"max-height:1000px;max-width:1500px;overflow:auto;\">\n",
        "<table border=\"1\" class=\"dataframe\">\n",
        "  <thead>\n",
        "    <tr style=\"text-align: right;\">\n",
        "      <th></th>\n",
        "      <th>#</th>\n",
        "      <th>SID</th>\n",
        "      <th>CID</th>\n",
        "      <th>BioAssay_Source</th>\n",
        "      <th>RankScore</th>\n",
        "      <th>Outcome</th>\n",
        "      <th>Xref</th>\n",
        "      <th>URL</th>\n",
        "      <th>Comment</th>\n",
        "      <th>DepositDate</th>\n",
        "      <th>Inhibition Observed</th>\n",
        "      <th>Approved Drug</th>\n",
        "      <th>Collection</th>\n",
        "      <th>Analysis Comment</th>\n",
        "      <th>Activity Outcome</th>\n",
        "      <th>Activity Score</th>\n",
        "      <th>p450-cyp2c19-Potency_&amp;#956;M</th>\n",
        "      <th>p450-cyp2c19-Curve_Description</th>\n",
        "      <th>p450-cyp2c19-Fit_LogAC50</th>\n",
        "      <th>p450-cyp2c19-Fit_HillSlope</th>\n",
        "      <th></th>\n",
        "    </tr>\n",
        "  </thead>\n",
        "  <tbody>\n",
        "    <tr>\n",
        "      <th>0</th>\n",
        "      <td> 1</td>\n",
        "      <td> 26751441</td>\n",
        "      <td> 10847630</td>\n",
        "      <td> NCGC</td>\n",
        "      <td>NaN</td>\n",
        "      <td> Unspecified</td>\n",
        "      <td>NaN</td>\n",
        "      <td>NaN</td>\n",
        "      <td>NaN</td>\n",
        "      <td> 2009/07/08</td>\n",
        "      <td> False</td>\n",
        "      <td> Exploratory</td>\n",
        "      <td> NaN</td>\n",
        "      <td>NaN</td>\n",
        "      <td> 1</td>\n",
        "      <td>  0</td>\n",
        "      <td>     NaN</td>\n",
        "      <td>                             NaN</td>\n",
        "      <td> NaN</td>\n",
        "      <td>   NaN</td>\n",
        "      <td>...</td>\n",
        "    </tr>\n",
        "    <tr>\n",
        "      <th>1</th>\n",
        "      <td> 2</td>\n",
        "      <td> 26751440</td>\n",
        "      <td> 16758818</td>\n",
        "      <td> NCGC</td>\n",
        "      <td>NaN</td>\n",
        "      <td> Unspecified</td>\n",
        "      <td>NaN</td>\n",
        "      <td>NaN</td>\n",
        "      <td>NaN</td>\n",
        "      <td> 2009/07/08</td>\n",
        "      <td> False</td>\n",
        "      <td> Exploratory</td>\n",
        "      <td> NaN</td>\n",
        "      <td>NaN</td>\n",
        "      <td> 1</td>\n",
        "      <td>  0</td>\n",
        "      <td>     NaN</td>\n",
        "      <td>                             NaN</td>\n",
        "      <td> NaN</td>\n",
        "      <td>   NaN</td>\n",
        "      <td>...</td>\n",
        "    </tr>\n",
        "    <tr>\n",
        "      <th>2</th>\n",
        "      <td> 3</td>\n",
        "      <td> 26751439</td>\n",
        "      <td> 16758817</td>\n",
        "      <td> NCGC</td>\n",
        "      <td>NaN</td>\n",
        "      <td> Unspecified</td>\n",
        "      <td>NaN</td>\n",
        "      <td>NaN</td>\n",
        "      <td>NaN</td>\n",
        "      <td> 2009/07/08</td>\n",
        "      <td>  True</td>\n",
        "      <td> Exploratory</td>\n",
        "      <td> NaN</td>\n",
        "      <td>NaN</td>\n",
        "      <td> 2</td>\n",
        "      <td> 44</td>\n",
        "      <td> 1.58489</td>\n",
        "      <td> Partial curve; partial efficacy</td>\n",
        "      <td>-5.8</td>\n",
        "      <td> 3.132</td>\n",
        "      <td>...</td>\n",
        "    </tr>\n",
        "  </tbody>\n",
        "</table>\n",
        "<p>3 rows \u00d7 150 columns</p>\n",
        "</div>"
       ],
       "metadata": {},
       "output_type": "pyout",
       "prompt_number": 28,
       "text": [
        "   #       SID       CID BioAssay_Source  RankScore      Outcome  Xref  URL  \\\n",
        "0  1  26751441  10847630            NCGC        NaN  Unspecified   NaN  NaN   \n",
        "1  2  26751440  16758818            NCGC        NaN  Unspecified   NaN  NaN   \n",
        "2  3  26751439  16758817            NCGC        NaN  Unspecified   NaN  NaN   \n",
        "\n",
        "   Comment DepositDate Inhibition Observed Approved Drug Collection  \\\n",
        "0      NaN  2009/07/08               False   Exploratory        NaN   \n",
        "1      NaN  2009/07/08               False   Exploratory        NaN   \n",
        "2      NaN  2009/07/08                True   Exploratory        NaN   \n",
        "\n",
        "   Analysis Comment  Activity Outcome  Activity Score  \\\n",
        "0               NaN                 1               0   \n",
        "1               NaN                 1               0   \n",
        "2               NaN                 2              44   \n",
        "\n",
        "   p450-cyp2c19-Potency_&#956;M   p450-cyp2c19-Curve_Description  \\\n",
        "0                           NaN                              NaN   \n",
        "1                           NaN                              NaN   \n",
        "2                       1.58489  Partial curve; partial efficacy   \n",
        "\n",
        "   p450-cyp2c19-Fit_LogAC50  p450-cyp2c19-Fit_HillSlope      \n",
        "0                       NaN                         NaN ...  \n",
        "1                       NaN                         NaN ...  \n",
        "2                      -5.8                       3.132 ...  \n",
        "\n",
        "[3 rows x 150 columns]"
       ]
      }
     ],
     "prompt_number": 28
    },
    {
     "cell_type": "code",
     "collapsed": false,
     "input": [
      "# Load the structure data into a DataFrame\n",
      "smiles = pd.read_table('data/1851smiles.txt', sep='\\t', names=('SID', 'SMILES'))"
     ],
     "language": "python",
     "metadata": {},
     "outputs": [],
     "prompt_number": 29
    },
    {
     "cell_type": "code",
     "collapsed": false,
     "input": [
      "# Inspect the first five rows of the DataFrame.\n",
      "smiles.head(5)"
     ],
     "language": "python",
     "metadata": {},
     "outputs": [
      {
       "html": [
        "<div style=\"max-height:1000px;max-width:1500px;overflow:auto;\">\n",
        "<table border=\"1\" class=\"dataframe\">\n",
        "  <thead>\n",
        "    <tr style=\"text-align: right;\">\n",
        "      <th></th>\n",
        "      <th>SID</th>\n",
        "      <th>SMILES</th>\n",
        "    </tr>\n",
        "  </thead>\n",
        "  <tbody>\n",
        "    <tr>\n",
        "      <th>0</th>\n",
        "      <td> 26751441</td>\n",
        "      <td>                     COC(=O)NC/C=C\\C1=NC(=CO1)CCCO</td>\n",
        "    </tr>\n",
        "    <tr>\n",
        "      <th>1</th>\n",
        "      <td> 26751440</td>\n",
        "      <td> C[C@H](C1=CC=CC=C1)N2C(=O)[C@@H]3CC[C@H]4[C@H]...</td>\n",
        "    </tr>\n",
        "    <tr>\n",
        "      <th>2</th>\n",
        "      <td> 26751439</td>\n",
        "      <td> CCN1C(=O)[C@H]2CC=C3[C@H]([C@H]2C1=O)[C@@H]([C...</td>\n",
        "    </tr>\n",
        "    <tr>\n",
        "      <th>3</th>\n",
        "      <td> 26751438</td>\n",
        "      <td> C1COC2([C@@H]3[C@H](O3)[C@H]([C@@H]4C2=CC[C@H]...</td>\n",
        "    </tr>\n",
        "    <tr>\n",
        "      <th>4</th>\n",
        "      <td> 26751437</td>\n",
        "      <td>          C=CC1=C[C@H]([C@H]2[C@@H](C13OCCCO3)O2)O</td>\n",
        "    </tr>\n",
        "  </tbody>\n",
        "</table>\n",
        "<p>5 rows \u00d7 2 columns</p>\n",
        "</div>"
       ],
       "metadata": {},
       "output_type": "pyout",
       "prompt_number": 30,
       "text": [
        "        SID                                             SMILES\n",
        "0  26751441                      COC(=O)NC/C=C\\C1=NC(=CO1)CCCO\n",
        "1  26751440  C[C@H](C1=CC=CC=C1)N2C(=O)[C@@H]3CC[C@H]4[C@H]...\n",
        "2  26751439  CCN1C(=O)[C@H]2CC=C3[C@H]([C@H]2C1=O)[C@@H]([C...\n",
        "3  26751438  C1COC2([C@@H]3[C@H](O3)[C@H]([C@@H]4C2=CC[C@H]...\n",
        "4  26751437           C=CC1=C[C@H]([C@H]2[C@@H](C13OCCCO3)O2)O\n",
        "\n",
        "[5 rows x 2 columns]"
       ]
      }
     ],
     "prompt_number": 30
    },
    {
     "cell_type": "heading",
     "level": 3,
     "metadata": {},
     "source": [
      "Shaping Data"
     ]
    },
    {
     "cell_type": "code",
     "collapsed": false,
     "input": [
      "df = pd.read_csv('data/supermergewashdescriptors.txt')"
     ],
     "language": "python",
     "metadata": {},
     "outputs": [
      {
       "output_type": "stream",
       "stream": "stderr",
       "text": [
        "/home/ubuntu/miniconda3/lib/python3.3/site-packages/pandas/io/parsers.py:1070: DtypeWarning: Columns (11) have mixed types. Specify dtype option on import or set low_memory=False.\n",
        "  data = self._reader.read(nrows)\n"
       ]
      }
     ],
     "prompt_number": 31
    },
    {
     "cell_type": "code",
     "collapsed": false,
     "input": [
      "df.head(5)"
     ],
     "language": "python",
     "metadata": {},
     "outputs": [
      {
       "html": [
        "<div style=\"max-height:1000px;max-width:1500px;overflow:auto;\">\n",
        "<table border=\"1\" class=\"dataframe\">\n",
        "  <thead>\n",
        "    <tr style=\"text-align: right;\">\n",
        "      <th></th>\n",
        "      <th>Field_1</th>\n",
        "      <th>Field_2</th>\n",
        "      <th>Minimized</th>\n",
        "      <th>WashedMols</th>\n",
        "      <th>PUBCHEM_CID</th>\n",
        "      <th>PUBCHEM_ACTIVITY_OUTCOME</th>\n",
        "      <th>PUBCHEM_ACTIVITY_SCORE</th>\n",
        "      <th>PUBCHEM_ACTIVITY_URL</th>\n",
        "      <th>PUBCHEM_ASSAYDATA_COMMENT</th>\n",
        "      <th>Inhibition Observed</th>\n",
        "      <th>Approved Drug</th>\n",
        "      <th>Collection</th>\n",
        "      <th>Analysis Comment</th>\n",
        "      <th>Activity Outcome</th>\n",
        "      <th>Activity Score</th>\n",
        "      <th>p450-cyp2c19-Potency</th>\n",
        "      <th>p450-cyp2c19-Curve_Description</th>\n",
        "      <th>p450-cyp2c19-Fit_LogAC50</th>\n",
        "      <th>p450-cyp2c19-Fit_HillSlope</th>\n",
        "      <th>p450-cyp2c19-Fit_R2</th>\n",
        "      <th></th>\n",
        "    </tr>\n",
        "  </thead>\n",
        "  <tbody>\n",
        "    <tr>\n",
        "      <th>0</th>\n",
        "      <td> 842238</td>\n",
        "      <td>              Cl.Clc1cc(NC(=O)CCC)ccc1N1CCN(CC1)CC</td>\n",
        "      <td>              Cl.Clc1cc(NC(=O)CCC)ccc1N1CCN(CC1)CC</td>\n",
        "      <td>             Clc1cc(NC(=O)CCC)ccc1N1CC[NH+](CC1)CC</td>\n",
        "      <td> 6602638</td>\n",
        "      <td> Unspecified</td>\n",
        "      <td>NaN</td>\n",
        "      <td>NaN</td>\n",
        "      <td>NaN</td>\n",
        "      <td> True</td>\n",
        "      <td> Biodiverse</td>\n",
        "      <td> NaN</td>\n",
        "      <td>NaN</td>\n",
        "      <td> 1</td>\n",
        "      <td>  0</td>\n",
        "      <td>       NaN</td>\n",
        "      <td>                                    NaN</td>\n",
        "      <td>  NaN</td>\n",
        "      <td>    NaN</td>\n",
        "      <td>    NaN</td>\n",
        "      <td>...</td>\n",
        "    </tr>\n",
        "    <tr>\n",
        "      <th>1</th>\n",
        "      <td> 842250</td>\n",
        "      <td> Fc1ccc(cc1)Cn1nnnc1CN(CC1=Cc2c(NC1=O)cc1OCOc1c...</td>\n",
        "      <td> Fc1ccc(cc1)Cn1nnnc1CN(CC1=Cc2c(NC1=O)cc1OCOc1c...</td>\n",
        "      <td> Fc1ccc(cc1)Cn1nnnc1C[NH+](CC1=Cc2c(NC1=O)cc1OC...</td>\n",
        "      <td>  644510</td>\n",
        "      <td> Unspecified</td>\n",
        "      <td>NaN</td>\n",
        "      <td>NaN</td>\n",
        "      <td>NaN</td>\n",
        "      <td> True</td>\n",
        "      <td> Biodiverse</td>\n",
        "      <td> NaN</td>\n",
        "      <td>NaN</td>\n",
        "      <td> 3</td>\n",
        "      <td> 20</td>\n",
        "      <td> 12.589300</td>\n",
        "      <td>        Partial curve; partial efficacy</td>\n",
        "      <td>-4.90</td>\n",
        "      <td> 2.7868</td>\n",
        "      <td> 0.9543</td>\n",
        "      <td>...</td>\n",
        "    </tr>\n",
        "    <tr>\n",
        "      <th>2</th>\n",
        "      <td> 842319</td>\n",
        "      <td> S1\\C(=C/2\\c3c(N(CC)C\\2=O)cccc3)\\C(=O)N(CCCOC)C1=S</td>\n",
        "      <td> S1\\C(=C/2\\c3c(N(CC)C\\2=O)cccc3)\\C(=O)N(CCCOC)C1=S</td>\n",
        "      <td> S1\\C(=C/2\\c3c(N(CC)C\\2=O)cccc3)\\C(=O)N(CCCOC)C1=S</td>\n",
        "      <td> 1960010</td>\n",
        "      <td> Unspecified</td>\n",
        "      <td>NaN</td>\n",
        "      <td>NaN</td>\n",
        "      <td>NaN</td>\n",
        "      <td> True</td>\n",
        "      <td> Biodiverse</td>\n",
        "      <td> NaN</td>\n",
        "      <td>NaN</td>\n",
        "      <td> 3</td>\n",
        "      <td> 20</td>\n",
        "      <td> 11.220200</td>\n",
        "      <td> Partial curve; high efficacy; poor fit</td>\n",
        "      <td>-4.95</td>\n",
        "      <td> 0.7000</td>\n",
        "      <td> 0.8710</td>\n",
        "      <td>...</td>\n",
        "    </tr>\n",
        "    <tr>\n",
        "      <th>3</th>\n",
        "      <td> 842408</td>\n",
        "      <td>        S1c2cc(N(S(=O)(=O)c3sccc3)C(=O)C)ccc2OC1=O</td>\n",
        "      <td>        S1c2cc(N(S(=O)(=O)c3sccc3)C(=O)C)ccc2OC1=O</td>\n",
        "      <td>        S1c2cc(N(S(=O)(=O)c3sccc3)C(=O)C)ccc2OC1=O</td>\n",
        "      <td>  644675</td>\n",
        "      <td> Unspecified</td>\n",
        "      <td>NaN</td>\n",
        "      <td>NaN</td>\n",
        "      <td>NaN</td>\n",
        "      <td> True</td>\n",
        "      <td> Biodiverse</td>\n",
        "      <td> NaN</td>\n",
        "      <td>NaN</td>\n",
        "      <td> 2</td>\n",
        "      <td> 90</td>\n",
        "      <td>  0.316228</td>\n",
        "      <td>          Complete curve; high efficacy</td>\n",
        "      <td>-6.50</td>\n",
        "      <td> 1.1000</td>\n",
        "      <td> 0.9297</td>\n",
        "      <td>...</td>\n",
        "    </tr>\n",
        "    <tr>\n",
        "      <th>4</th>\n",
        "      <td> 842584</td>\n",
        "      <td>                  Clc1ccccc1-c1[nH]nc(n1)-c1ccccc1</td>\n",
        "      <td>                  Clc1ccccc1-c1[nH]nc(n1)-c1ccccc1</td>\n",
        "      <td>                  Clc1ccccc1-c1[nH]nc(n1)-c1ccccc1</td>\n",
        "      <td>  644851</td>\n",
        "      <td> Unspecified</td>\n",
        "      <td>NaN</td>\n",
        "      <td>NaN</td>\n",
        "      <td>NaN</td>\n",
        "      <td> True</td>\n",
        "      <td> Biodiverse</td>\n",
        "      <td> NaN</td>\n",
        "      <td>NaN</td>\n",
        "      <td> 2</td>\n",
        "      <td> 41</td>\n",
        "      <td> 17.782801</td>\n",
        "      <td>           Partial curve; high efficacy</td>\n",
        "      <td>-4.75</td>\n",
        "      <td> 0.8000</td>\n",
        "      <td> 0.9390</td>\n",
        "      <td>...</td>\n",
        "    </tr>\n",
        "  </tbody>\n",
        "</table>\n",
        "<p>5 rows \u00d7 327 columns</p>\n",
        "</div>"
       ],
       "metadata": {},
       "output_type": "pyout",
       "prompt_number": 32,
       "text": [
        "   Field_1                                            Field_2  \\\n",
        "0   842238               Cl.Clc1cc(NC(=O)CCC)ccc1N1CCN(CC1)CC   \n",
        "1   842250  Fc1ccc(cc1)Cn1nnnc1CN(CC1=Cc2c(NC1=O)cc1OCOc1c...   \n",
        "2   842319  S1\\C(=C/2\\c3c(N(CC)C\\2=O)cccc3)\\C(=O)N(CCCOC)C1=S   \n",
        "3   842408         S1c2cc(N(S(=O)(=O)c3sccc3)C(=O)C)ccc2OC1=O   \n",
        "4   842584                   Clc1ccccc1-c1[nH]nc(n1)-c1ccccc1   \n",
        "\n",
        "                                           Minimized  \\\n",
        "0               Cl.Clc1cc(NC(=O)CCC)ccc1N1CCN(CC1)CC   \n",
        "1  Fc1ccc(cc1)Cn1nnnc1CN(CC1=Cc2c(NC1=O)cc1OCOc1c...   \n",
        "2  S1\\C(=C/2\\c3c(N(CC)C\\2=O)cccc3)\\C(=O)N(CCCOC)C1=S   \n",
        "3         S1c2cc(N(S(=O)(=O)c3sccc3)C(=O)C)ccc2OC1=O   \n",
        "4                   Clc1ccccc1-c1[nH]nc(n1)-c1ccccc1   \n",
        "\n",
        "                                          WashedMols  PUBCHEM_CID  \\\n",
        "0              Clc1cc(NC(=O)CCC)ccc1N1CC[NH+](CC1)CC      6602638   \n",
        "1  Fc1ccc(cc1)Cn1nnnc1C[NH+](CC1=Cc2c(NC1=O)cc1OC...       644510   \n",
        "2  S1\\C(=C/2\\c3c(N(CC)C\\2=O)cccc3)\\C(=O)N(CCCOC)C1=S      1960010   \n",
        "3         S1c2cc(N(S(=O)(=O)c3sccc3)C(=O)C)ccc2OC1=O       644675   \n",
        "4                   Clc1ccccc1-c1[nH]nc(n1)-c1ccccc1       644851   \n",
        "\n",
        "  PUBCHEM_ACTIVITY_OUTCOME  PUBCHEM_ACTIVITY_SCORE  PUBCHEM_ACTIVITY_URL  \\\n",
        "0              Unspecified                     NaN                   NaN   \n",
        "1              Unspecified                     NaN                   NaN   \n",
        "2              Unspecified                     NaN                   NaN   \n",
        "3              Unspecified                     NaN                   NaN   \n",
        "4              Unspecified                     NaN                   NaN   \n",
        "\n",
        "   PUBCHEM_ASSAYDATA_COMMENT Inhibition Observed Approved Drug Collection  \\\n",
        "0                        NaN                True    Biodiverse        NaN   \n",
        "1                        NaN                True    Biodiverse        NaN   \n",
        "2                        NaN                True    Biodiverse        NaN   \n",
        "3                        NaN                True    Biodiverse        NaN   \n",
        "4                        NaN                True    Biodiverse        NaN   \n",
        "\n",
        "   Analysis Comment  Activity Outcome  Activity Score  p450-cyp2c19-Potency  \\\n",
        "0               NaN                 1               0                   NaN   \n",
        "1               NaN                 3              20             12.589300   \n",
        "2               NaN                 3              20             11.220200   \n",
        "3               NaN                 2              90              0.316228   \n",
        "4               NaN                 2              41             17.782801   \n",
        "\n",
        "           p450-cyp2c19-Curve_Description  p450-cyp2c19-Fit_LogAC50  \\\n",
        "0                                     NaN                       NaN   \n",
        "1         Partial curve; partial efficacy                     -4.90   \n",
        "2  Partial curve; high efficacy; poor fit                     -4.95   \n",
        "3           Complete curve; high efficacy                     -6.50   \n",
        "4            Partial curve; high efficacy                     -4.75   \n",
        "\n",
        "   p450-cyp2c19-Fit_HillSlope  p450-cyp2c19-Fit_R2      \n",
        "0                         NaN                  NaN ...  \n",
        "1                      2.7868               0.9543 ...  \n",
        "2                      0.7000               0.8710 ...  \n",
        "3                      1.1000               0.9297 ...  \n",
        "4                      0.8000               0.9390 ...  \n",
        "\n",
        "[5 rows x 327 columns]"
       ]
      }
     ],
     "prompt_number": 32
    },
    {
     "cell_type": "code",
     "collapsed": false,
     "input": [
      "df.columns"
     ],
     "language": "python",
     "metadata": {},
     "outputs": [
      {
       "metadata": {},
       "output_type": "pyout",
       "prompt_number": 33,
       "text": [
        "Index(['Field_1', 'Field_2', 'Minimized', 'WashedMols', 'PUBCHEM_CID', 'PUBCHEM_ACTIVITY_OUTCOME', 'PUBCHEM_ACTIVITY_SCORE', 'PUBCHEM_ACTIVITY_URL', 'PUBCHEM_ASSAYDATA_COMMENT', 'Inhibition Observed', 'Approved Drug', 'Collection', 'Analysis Comment', 'Activity Outcome', 'Activity Score', 'p450-cyp2c19-Potency', 'p450-cyp2c19-Curve_Description', 'p450-cyp2c19-Fit_LogAC50', 'p450-cyp2c19-Fit_HillSlope', 'p450-cyp2c19-Fit_R2', 'p450-cyp2c19-Fit_InfiniteActivity', 'p450-cyp2c19-Fit_ZeroActivity', 'p450-cyp2c19-Fit_CurveClass', 'p450-cyp2c19-Excluded_Points', 'p450-cyp2c19-Max_Response', 'p450-cyp2c19-Activity at 0.0007 uM', 'p450-cyp2c19-Activity at 0.00160 uM', 'p450-cyp2c19-Activity at 0.00368 uM', 'p450-cyp2c19-Activity at 0.00820 uM', 'p450-cyp2c19-Activity at 0.018 uM', 'p450-cyp2c19-Activity at 0.041 uM', 'p450-cyp2c19-Activity at 0.091 uM', 'p450-cyp2c19-Activity at 0.204 uM', 'p450-cyp2c19-Activity at 0.457 uM', 'p450-cyp2c19-Activity at 1.022 uM', 'p450-cyp2c19-Activity at 2.286 uM', 'p450-cyp2c19-Activity at 5.111 uM', 'p450-cyp2c19-Activity at 11.43 uM', 'p450-cyp2c19-Activity at 25.56 uM', 'p450-cyp2c19-Activity at 57.14 uM', 'p450-cyp2d6-Potency', 'p450-cyp2d6-Curve_Description', 'p450-cyp2d6-Fit_LogAC50', 'p450-cyp2d6-Fit_HillSlope', 'p450-cyp2d6-Fit_R2', 'p450-cyp2d6-Fit_InfiniteActivity', 'p450-cyp2d6-Fit_ZeroActivity', 'p450-cyp2d6-Fit_CurveClass', 'p450-cyp2d6-Excluded_Points', 'p450-cyp2d6-Max_Response', 'p450-cyp2d6-Activity at 0.0007 uM', 'p450-cyp2d6-Activity at 0.00160 uM', 'p450-cyp2d6-Activity at 0.00368 uM', 'p450-cyp2d6-Activity at 0.00820 uM', 'p450-cyp2d6-Activity at 0.018 uM', 'p450-cyp2d6-Activity at 0.041 uM', 'p450-cyp2d6-Activity at 0.091 uM', 'p450-cyp2d6-Activity at 0.204 uM', 'p450-cyp2d6-Activity at 0.457 uM', 'p450-cyp2d6-Activity at 1.022 uM', 'p450-cyp2d6-Activity at 2.286 uM', 'p450-cyp2d6-Activity at 5.111 uM', 'p450-cyp2d6-Activity at 11.43 uM', 'p450-cyp2d6-Activity at 25.56 uM', 'p450-cyp2d6-Activity at 57.14 uM', 'p450-cyp3a4-Potency', 'p450-cyp3a4-Curve_Description', 'p450-cyp3a4-Fit_LogAC50', 'p450-cyp3a4-Fit_HillSlope', 'p450-cyp3a4-Fit_R2', 'p450-cyp3a4-Fit_InfiniteActivity', 'p450-cyp3a4-Fit_ZeroActivity', 'p450-cyp3a4-Fit_CurveClass', 'p450-cyp3a4-Excluded_Points', 'p450-cyp3a4-Max_Response', 'p450-cyp3a4-Activity at 0.0007 uM', 'p450-cyp3a4-Activity at 0.00164 uM', 'p450-cyp3a4-Activity at 0.00366 uM', 'p450-cyp3a4-Activity at 0.00818 uM', 'p450-cyp3a4-Activity at 0.018 uM', 'p450-cyp3a4-Activity at 0.041 uM', 'p450-cyp3a4-Activity at 0.091 uM', 'p450-cyp3a4-Activity at 0.204 uM', 'p450-cyp3a4-Activity at 0.457 uM', 'p450-cyp3a4-Activity at 1.022 uM', 'p450-cyp3a4-Activity at 2.286 uM', 'p450-cyp3a4-Activity at 5.111 uM', 'p450-cyp3a4-Activity at 11.43 uM', 'p450-cyp3a4-Activity at 25.56 uM', 'p450-cyp3a4-Activity at 57.14 uM', 'p450-cyp1a2-Potency', 'p450-cyp1a2-Curve_Description', 'p450-cyp1a2-Fit_LogAC50', 'p450-cyp1a2-Fit_HillSlope', 'p450-cyp1a2-Fit_R2', 'p450-cyp1a2-Fit_InfiniteActivity', 'p450-cyp1a2-Fit_ZeroActivity', 'p450-cyp1a2-Fit_CurveClass', 'p450-cyp1a2-Excluded_Points', 'p450-cyp1a2-Max_Response', ...], dtype='object')"
       ]
      }
     ],
     "prompt_number": 33
    },
    {
     "cell_type": "code",
     "collapsed": false,
     "input": [],
     "language": "python",
     "metadata": {},
     "outputs": []
    },
    {
     "cell_type": "heading",
     "level": 3,
     "metadata": {},
     "source": [
      "First pass at model in MOE\n"
     ]
    },
    {
     "cell_type": "code",
     "collapsed": false,
     "input": [],
     "language": "python",
     "metadata": {},
     "outputs": []
    },
    {
     "cell_type": "code",
     "collapsed": false,
     "input": [],
     "language": "python",
     "metadata": {},
     "outputs": []
    },
    {
     "cell_type": "code",
     "collapsed": false,
     "input": [],
     "language": "python",
     "metadata": {},
     "outputs": []
    },
    {
     "cell_type": "heading",
     "level": 3,
     "metadata": {},
     "source": [
      "Results from MOE binary classification"
     ]
    },
    {
     "cell_type": "code",
     "collapsed": false,
     "input": [],
     "language": "python",
     "metadata": {},
     "outputs": []
    },
    {
     "cell_type": "heading",
     "level": 3,
     "metadata": {},
     "source": [
      "Model Building with Python Tools\n",
      "One Isozyme, One Model"
     ]
    },
    {
     "cell_type": "code",
     "collapsed": false,
     "input": [],
     "language": "python",
     "metadata": {},
     "outputs": []
    },
    {
     "cell_type": "heading",
     "level": 3,
     "metadata": {},
     "source": [
      "Results from kNN model in scikit-learn"
     ]
    },
    {
     "cell_type": "code",
     "collapsed": false,
     "input": [],
     "language": "python",
     "metadata": {},
     "outputs": []
    },
    {
     "cell_type": "code",
     "collapsed": false,
     "input": [],
     "language": "python",
     "metadata": {},
     "outputs": []
    },
    {
     "cell_type": "code",
     "collapsed": false,
     "input": [],
     "language": "python",
     "metadata": {},
     "outputs": []
    },
    {
     "cell_type": "heading",
     "level": 3,
     "metadata": {},
     "source": [
      "Workflow"
     ]
    },
    {
     "cell_type": "markdown",
     "metadata": {},
     "source": [
      "- Semi-scripted analysis environment setup on EC2 instance of size appropriate to problem.\n",
      "- Analysis performed through browser interface to R server or in IPython Notebooks\n",
      "- Data hosted remotely and pulled into the environment as needed.\n",
      "- Analysis scripts saved and updated through a DVCS (git)\n",
      "- Results pushed to remote repositories.\n",
      "- EC2 instance shutdown or terminated."
     ]
    },
    {
     "cell_type": "code",
     "collapsed": false,
     "input": [],
     "language": "python",
     "metadata": {},
     "outputs": []
    },
    {
     "cell_type": "heading",
     "level": 4,
     "metadata": {},
     "source": [
      "Can I do my git business from this window too?"
     ]
    },
    {
     "cell_type": "code",
     "collapsed": false,
     "input": [
      "%%bash\n",
      "git config --global user.name \"Daniel Siegle\"\n",
      "git config --global user.email \"daniel.siegle@gmail.com\"\n",
      "\n",
      "# git congfig --global core.editor /usr/bin/emacs #if not set, git will \n",
      "# honor the $EDITOR environment variable\n",
      "\n",
      "git config --global color.ui \"auto\"\n",
      "\n",
      "git config --global credential.helper cache\n",
      "# Set the cache to timeout after 2 hours (settings in seconds)\n",
      "git config --global credential.helper 'cache --timeout=7200'"
     ],
     "language": "python",
     "metadata": {},
     "outputs": [],
     "prompt_number": 34
    },
    {
     "cell_type": "code",
     "collapsed": false,
     "input": [
      "!git pull"
     ],
     "language": "python",
     "metadata": {},
     "outputs": [
      {
       "output_type": "stream",
       "stream": "stdout",
       "text": [
        "Already up-to-date.\r\n"
       ]
      }
     ],
     "prompt_number": 35
    },
    {
     "cell_type": "code",
     "collapsed": false,
     "input": [
      "##Save your stuff now and then execute this cell to add, commit and push\n",
      "!git add Outline.ipynb\n",
      "!git commit -m 'automated data fetch'\n"
     ],
     "language": "python",
     "metadata": {},
     "outputs": [
      {
       "output_type": "stream",
       "stream": "stdout",
       "text": [
        "[master 784fb70] automated data fetch\r\n",
        " 1 file changed, 18 insertions(+), 7 deletions(-)\r\n"
       ]
      }
     ],
     "prompt_number": 41
    },
    {
     "cell_type": "code",
     "collapsed": false,
     "input": [
      "!git push -u origin master"
     ],
     "language": "python",
     "metadata": {},
     "outputs": [
      {
       "output_type": "stream",
       "stream": "stdout",
       "text": [
        "Counting objects: 5, done.\r\n",
        "Compressing objects:  33% (1/3)   \r",
        "Compressing objects:  66% (2/3)   \r",
        "Compressing objects: 100% (3/3)   \r",
        "Compressing objects: 100% (3/3), done.\r\n",
        "Writing objects:  33% (1/3)   \r",
        "Writing objects:  66% (2/3)   \r",
        "Writing objects: 100% (3/3)   \r",
        "Writing objects: 100% (3/3), 712 bytes | 0 bytes/s, done.\r\n",
        "Total 3 (delta 2), reused 0 (delta 0)\r\n"
       ]
      },
      {
       "output_type": "stream",
       "stream": "stdout",
       "text": [
        "To https://github.com/5x5x5x5/kin.git\r\n",
        "   7ac6eb7..784fb70  master -> master\r\n",
        "Branch master set up to track remote branch master from origin.\r\n"
       ]
      }
     ],
     "prompt_number": 42
    },
    {
     "cell_type": "code",
     "collapsed": false,
     "input": [],
     "language": "python",
     "metadata": {},
     "outputs": []
    },
    {
     "cell_type": "code",
     "collapsed": false,
     "input": [
      "!sudo lshw"
     ],
     "language": "python",
     "metadata": {},
     "outputs": [
      {
       "output_type": "stream",
       "stream": "stdout",
       "text": [
        "\r",
        "\r",
        "DMI\r"
       ]
      },
      {
       "output_type": "stream",
       "stream": "stdout",
       "text": [
        "\r",
        "   \r",
        "SMP\r",
        "\r",
        "   \r",
        "PA-RISC\r",
        "\r",
        "       \r",
        "device-tree\r",
        "\r",
        "           \r",
        "SPD\r",
        "\r",
        "   \r",
        "memory\r",
        "\r",
        "      \r",
        "/proc/cpuinfo\r",
        "\r",
        "             \r",
        "CPUID\r",
        "\r",
        "     \r",
        "PCI (sysfs)\r"
       ]
      },
      {
       "output_type": "stream",
       "stream": "stdout",
       "text": [
        "\r",
        "           \r",
        "ISA PnP\r",
        "\r",
        "       \r",
        "PCMCIA\r",
        "\r",
        "      \r",
        "PCMCIA\r",
        "\r",
        "      \r",
        "kernel device tree (sysfs)\r",
        "\r",
        "                          \r",
        "USB\r",
        "\r",
        "   \r",
        "IDE\r",
        "\r",
        "   \r",
        "SCSI\r",
        "\r",
        "    \r",
        "Network interfaces\r",
        "\r",
        "                  \r",
        "Framebuffer devices\r",
        "\r",
        "                   \r",
        "Display\r",
        "\r",
        "       \r",
        "CPUFreq\r",
        "\r",
        "       \r",
        "ABI\r",
        "\r",
        "   \r",
        "\r",
        "ip-10-169-39-218\r\n",
        "    description: Computer\r\n",
        "    width: 64 bits\r\n",
        "    capabilities: vsyscall32\r\n",
        "  *-core\r\n",
        "       description: Motherboard\r\n",
        "       physical id: 0\r\n",
        "     *-memory\r\n",
        "          description: System memory\r\n",
        "          physical id: 0\r\n",
        "          size: 3748MiB\r\n",
        "     *-cpu\r\n",
        "          product: Intel(R) Xeon(R) CPU E5-2670 v2 @ 2.50GHz\r\n",
        "          vendor: Intel Corp.\r\n",
        "          physical id: 1\r\n",
        "          bus info: cpu@0\r\n",
        "          width: 64 bits\r\n",
        "          capabilities: fpu fpu_exception wp de tsc msr pae cx8 apic sep cmov pat clflush mmx fxsr sse sse2 ss ht syscall nx x86-64 constant_tsc rep_good nopl pni pclmulqdq ssse3 cx16 sse4_1 sse4_2 popcnt tsc_deadline_timer aes rdrand hypervisor lahf_lm ida arat epb pln pts dtherm fsgsbase erms\r\n",
        "  *-network\r\n",
        "       description: Ethernet interface\r\n",
        "       physical id: 1\r\n",
        "       logical name: eth0\r\n",
        "       serial: 22:00:0b:24:83:e6\r\n",
        "       capabilities: ethernet physical\r\n",
        "       configuration: broadcast=yes driver=vif ip=10.169.39.218 link=yes multicast=yes\r\n"
       ]
      }
     ],
     "prompt_number": 38
    },
    {
     "cell_type": "code",
     "collapsed": false,
     "input": [],
     "language": "python",
     "metadata": {},
     "outputs": []
    }
   ],
   "metadata": {}
  }
 ]
}