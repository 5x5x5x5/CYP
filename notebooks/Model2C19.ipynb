{
 "metadata": {
  "name": "",
  "signature": "sha256:dfc36c95a7856b8bc765767db9af22a8597740a40a593b4826a5e879cfd9f1a4"
 },
 "nbformat": 3,
 "nbformat_minor": 0,
 "worksheets": [
  {
   "cells": [
    {
     "cell_type": "code",
     "collapsed": false,
     "input": [
      "import numpy as np\n",
      "import pandas as pd\n",
      "import warnings\n",
      "warnings.filterwarnings('ignore')"
     ],
     "language": "python",
     "metadata": {},
     "outputs": [],
     "prompt_number": 1
    },
    {
     "cell_type": "heading",
     "level": 3,
     "metadata": {},
     "source": [
      "Train/Test split already done"
     ]
    },
    {
     "cell_type": "code",
     "collapsed": false,
     "input": [
      "#from sklearn.cross_validation import train_test_split\n",
      "\n",
      "# create 80%-20% train-test split\n",
      "#X_train, X_test, y_train, y_test = train_test_split(X, y, test_size=0.2, random_state=5555)"
     ],
     "language": "python",
     "metadata": {},
     "outputs": [],
     "prompt_number": 2
    },
    {
     "cell_type": "code",
     "collapsed": false,
     "input": [
      "twoC19_test = pd.read_csv(\"data/test2c19.csv\", index_col='SID')\n",
      "twoC19_train = pd.read_csv(\"data/training2c19.csv\", index_col='SID')"
     ],
     "language": "python",
     "metadata": {},
     "outputs": [],
     "prompt_number": 3
    },
    {
     "cell_type": "code",
     "collapsed": false,
     "input": [
      "twoC19_train.head()"
     ],
     "language": "python",
     "metadata": {},
     "outputs": [
      {
       "html": [
        "<div style=\"max-height:1000px;max-width:1500px;overflow:auto;\">\n",
        "<table border=\"1\" class=\"dataframe\">\n",
        "  <thead>\n",
        "    <tr style=\"text-align: right;\">\n",
        "      <th></th>\n",
        "      <th>ActivityScore</th>\n",
        "      <th>apol</th>\n",
        "      <th>a_acc</th>\n",
        "      <th>a_acid</th>\n",
        "      <th>a_aro</th>\n",
        "      <th>a_base</th>\n",
        "      <th>a_count</th>\n",
        "      <th>a_don</th>\n",
        "      <th>a_heavy</th>\n",
        "      <th>a_hyd</th>\n",
        "      <th>...</th>\n",
        "      <th>vsa_acid</th>\n",
        "      <th>vsa_base</th>\n",
        "      <th>vsa_don</th>\n",
        "      <th>vsa_hyd</th>\n",
        "      <th>vsa_other</th>\n",
        "      <th>vsa_pol</th>\n",
        "      <th>Weight</th>\n",
        "      <th>weinerPath</th>\n",
        "      <th>weinerPol</th>\n",
        "      <th>zagreb</th>\n",
        "    </tr>\n",
        "    <tr>\n",
        "      <th>SID</th>\n",
        "      <th></th>\n",
        "      <th></th>\n",
        "      <th></th>\n",
        "      <th></th>\n",
        "      <th></th>\n",
        "      <th></th>\n",
        "      <th></th>\n",
        "      <th></th>\n",
        "      <th></th>\n",
        "      <th></th>\n",
        "      <th></th>\n",
        "      <th></th>\n",
        "      <th></th>\n",
        "      <th></th>\n",
        "      <th></th>\n",
        "      <th></th>\n",
        "      <th></th>\n",
        "      <th></th>\n",
        "      <th></th>\n",
        "      <th></th>\n",
        "      <th></th>\n",
        "    </tr>\n",
        "  </thead>\n",
        "  <tbody>\n",
        "    <tr>\n",
        "      <th>4251837 </th>\n",
        "      <td> 89</td>\n",
        "      <td> 58.610653</td>\n",
        "      <td> 5</td>\n",
        "      <td> 0</td>\n",
        "      <td> 17</td>\n",
        "      <td> 0</td>\n",
        "      <td> 49</td>\n",
        "      <td> 1</td>\n",
        "      <td> 28</td>\n",
        "      <td> 19</td>\n",
        "      <td>...</td>\n",
        "      <td> 0</td>\n",
        "      <td> 0</td>\n",
        "      <td>  5.682576</td>\n",
        "      <td> 334.55359</td>\n",
        "      <td> 26.116156</td>\n",
        "      <td> 32.443340</td>\n",
        "      <td> 399.47101</td>\n",
        "      <td> 2372</td>\n",
        "      <td> 41</td>\n",
        "      <td> 140</td>\n",
        "    </tr>\n",
        "    <tr>\n",
        "      <th>11112737</th>\n",
        "      <td> 43</td>\n",
        "      <td> 57.457447</td>\n",
        "      <td> 4</td>\n",
        "      <td> 0</td>\n",
        "      <td> 12</td>\n",
        "      <td> 1</td>\n",
        "      <td> 49</td>\n",
        "      <td> 0</td>\n",
        "      <td> 27</td>\n",
        "      <td> 19</td>\n",
        "      <td>...</td>\n",
        "      <td> 0</td>\n",
        "      <td> 0</td>\n",
        "      <td>  0.000000</td>\n",
        "      <td> 295.90125</td>\n",
        "      <td> 41.257984</td>\n",
        "      <td> 21.078190</td>\n",
        "      <td> 389.85898</td>\n",
        "      <td> 2275</td>\n",
        "      <td> 38</td>\n",
        "      <td> 142</td>\n",
        "    </tr>\n",
        "    <tr>\n",
        "      <th>4242934 </th>\n",
        "      <td> 84</td>\n",
        "      <td> 50.423859</td>\n",
        "      <td> 4</td>\n",
        "      <td> 0</td>\n",
        "      <td> 11</td>\n",
        "      <td> 0</td>\n",
        "      <td> 44</td>\n",
        "      <td> 2</td>\n",
        "      <td> 24</td>\n",
        "      <td> 15</td>\n",
        "      <td>...</td>\n",
        "      <td> 0</td>\n",
        "      <td> 0</td>\n",
        "      <td> 11.365152</td>\n",
        "      <td> 208.70059</td>\n",
        "      <td> 49.716503</td>\n",
        "      <td> 43.506508</td>\n",
        "      <td> 328.36798</td>\n",
        "      <td> 1434</td>\n",
        "      <td> 37</td>\n",
        "      <td> 126</td>\n",
        "    </tr>\n",
        "    <tr>\n",
        "      <th>17410368</th>\n",
        "      <td> 20</td>\n",
        "      <td> 37.776344</td>\n",
        "      <td> 3</td>\n",
        "      <td> 0</td>\n",
        "      <td> 11</td>\n",
        "      <td> 0</td>\n",
        "      <td> 28</td>\n",
        "      <td> 1</td>\n",
        "      <td> 20</td>\n",
        "      <td> 12</td>\n",
        "      <td>...</td>\n",
        "      <td> 0</td>\n",
        "      <td> 0</td>\n",
        "      <td>  5.682576</td>\n",
        "      <td> 176.45346</td>\n",
        "      <td> 48.930611</td>\n",
        "      <td> 34.353111</td>\n",
        "      <td> 307.13998</td>\n",
        "      <td>  821</td>\n",
        "      <td> 30</td>\n",
        "      <td> 106</td>\n",
        "    </tr>\n",
        "    <tr>\n",
        "      <th>14741505</th>\n",
        "      <td>  0</td>\n",
        "      <td> 46.399101</td>\n",
        "      <td> 4</td>\n",
        "      <td> 0</td>\n",
        "      <td> 17</td>\n",
        "      <td> 0</td>\n",
        "      <td> 37</td>\n",
        "      <td> 1</td>\n",
        "      <td> 23</td>\n",
        "      <td> 14</td>\n",
        "      <td>...</td>\n",
        "      <td> 0</td>\n",
        "      <td> 0</td>\n",
        "      <td>  5.682576</td>\n",
        "      <td> 213.52023</td>\n",
        "      <td> 43.328411</td>\n",
        "      <td> 43.774151</td>\n",
        "      <td> 326.38000</td>\n",
        "      <td> 1447</td>\n",
        "      <td> 29</td>\n",
        "      <td> 116</td>\n",
        "    </tr>\n",
        "  </tbody>\n",
        "</table>\n",
        "<p>5 rows \u00d7 187 columns</p>\n",
        "</div>"
       ],
       "metadata": {},
       "output_type": "pyout",
       "prompt_number": 4,
       "text": [
        "          ActivityScore       apol  a_acc  a_acid  a_aro  a_base  a_count  \\\n",
        "SID                                                                         \n",
        "4251837              89  58.610653      5       0     17       0       49   \n",
        "11112737             43  57.457447      4       0     12       1       49   \n",
        "4242934              84  50.423859      4       0     11       0       44   \n",
        "17410368             20  37.776344      3       0     11       0       28   \n",
        "14741505              0  46.399101      4       0     17       0       37   \n",
        "\n",
        "          a_don  a_heavy  a_hyd  ...    vsa_acid  vsa_base    vsa_don  \\\n",
        "SID                              ...                                    \n",
        "4251837       1       28     19  ...           0         0   5.682576   \n",
        "11112737      0       27     19  ...           0         0   0.000000   \n",
        "4242934       2       24     15  ...           0         0  11.365152   \n",
        "17410368      1       20     12  ...           0         0   5.682576   \n",
        "14741505      1       23     14  ...           0         0   5.682576   \n",
        "\n",
        "            vsa_hyd  vsa_other    vsa_pol     Weight  weinerPath  weinerPol  \\\n",
        "SID                                                                           \n",
        "4251837   334.55359  26.116156  32.443340  399.47101        2372         41   \n",
        "11112737  295.90125  41.257984  21.078190  389.85898        2275         38   \n",
        "4242934   208.70059  49.716503  43.506508  328.36798        1434         37   \n",
        "17410368  176.45346  48.930611  34.353111  307.13998         821         30   \n",
        "14741505  213.52023  43.328411  43.774151  326.38000        1447         29   \n",
        "\n",
        "          zagreb  \n",
        "SID               \n",
        "4251837      140  \n",
        "11112737     142  \n",
        "4242934      126  \n",
        "17410368     106  \n",
        "14741505     116  \n",
        "\n",
        "[5 rows x 187 columns]"
       ]
      }
     ],
     "prompt_number": 4
    },
    {
     "cell_type": "code",
     "collapsed": false,
     "input": [
      "col_names2C19 = twoC19_train.columns.tolist()\n",
      "\n",
      "print('Column names:')\n",
      "print(col_names2C19)"
     ],
     "language": "python",
     "metadata": {},
     "outputs": [
      {
       "output_type": "stream",
       "stream": "stdout",
       "text": [
        "Column names:\n",
        "['ActivityScore', 'apol', 'a_acc', 'a_acid', 'a_aro', 'a_base', 'a_count', 'a_don', 'a_heavy', 'a_hyd', 'a_IC', 'a_ICM', 'a_nB', 'a_nBr', 'a_nC', 'a_nCl', 'a_nF', 'a_nH', 'a_nI', 'a_nN', 'a_nO', 'a_nP', 'a_nS', 'balabanJ', 'BCUT_PEOE_0', 'BCUT_PEOE_1', 'BCUT_PEOE_2', 'BCUT_PEOE_3', 'BCUT_SLOGP_0', 'BCUT_SLOGP_1', 'BCUT_SLOGP_2', 'BCUT_SLOGP_3', 'BCUT_SMR_0', 'BCUT_SMR_1', 'BCUT_SMR_2', 'BCUT_SMR_3', 'bpol', 'b_1rotN', 'b_1rotR', 'b_ar', 'b_count', 'b_double', 'b_heavy', 'b_rotN', 'b_rotR', 'b_single', 'b_triple', 'chi0', 'chi0v', 'chi0v_C', 'chi0_C', 'chi1', 'chi1v', 'chi1v_C', 'chi1_C', 'chiral', 'chiral_u', 'density', 'diameter', 'FCharge', 'GCUT_PEOE_0', 'GCUT_PEOE_1', 'GCUT_PEOE_2', 'GCUT_PEOE_3', 'GCUT_SLOGP_0', 'GCUT_SLOGP_1', 'GCUT_SLOGP_2', 'GCUT_SLOGP_3', 'GCUT_SMR_0', 'GCUT_SMR_1', 'GCUT_SMR_2', 'GCUT_SMR_3', 'Kier1', 'Kier2', 'Kier3', 'KierA1', 'KierA2', 'KierA3', 'KierFlex', 'lip_acc', 'lip_don', 'lip_druglike', 'lip_violation', 'logP(o/w)', 'logS', 'mr', 'mutagenic', 'nmol', 'opr_brigid', 'opr_leadlike', 'opr_nring', 'opr_nrot', 'opr_violation', 'PC+', 'PC-', 'PEOE_PC+', 'PEOE_PC-', 'PEOE_RPC+', 'PEOE_RPC-', 'PEOE_VSA+0', 'PEOE_VSA+1', 'PEOE_VSA+2', 'PEOE_VSA+3', 'PEOE_VSA+4', 'PEOE_VSA+5', 'PEOE_VSA+6', 'PEOE_VSA-0', 'PEOE_VSA-1', 'PEOE_VSA-2', 'PEOE_VSA-3', 'PEOE_VSA-4', 'PEOE_VSA-5', 'PEOE_VSA-6', 'PEOE_VSA_FHYD', 'PEOE_VSA_FNEG', 'PEOE_VSA_FPNEG', 'PEOE_VSA_FPOL', 'PEOE_VSA_FPOS', 'PEOE_VSA_FPPOS', 'PEOE_VSA_HYD', 'PEOE_VSA_NEG', 'PEOE_VSA_PNEG', 'PEOE_VSA_POL', 'PEOE_VSA_POS', 'PEOE_VSA_PPOS', 'petitjean', 'petitjeanSC', 'Q_PC+', 'Q_PC-', 'Q_RPC+', 'Q_RPC-', 'Q_VSA_FHYD', 'Q_VSA_FNEG', 'Q_VSA_FPNEG', 'Q_VSA_FPOL', 'Q_VSA_FPOS', 'Q_VSA_FPPOS', 'Q_VSA_HYD', 'Q_VSA_NEG', 'Q_VSA_PNEG', 'Q_VSA_POL', 'Q_VSA_POS', 'Q_VSA_PPOS', 'radius', 'reactive', 'rings', 'RPC+', 'RPC-', 'rsynth', 'SlogP', 'SlogP_VSA0', 'SlogP_VSA1', 'SlogP_VSA2', 'SlogP_VSA3', 'SlogP_VSA4', 'SlogP_VSA5', 'SlogP_VSA6', 'SlogP_VSA7', 'SlogP_VSA8', 'SlogP_VSA9', 'SMR', 'SMR_VSA0', 'SMR_VSA1', 'SMR_VSA2', 'SMR_VSA3', 'SMR_VSA4', 'SMR_VSA5', 'SMR_VSA6', 'SMR_VSA7', 'TPSA', 'VAdjEq', 'VAdjMa', 'VDistEq', 'VDistMa', 'vdw_area', 'vdw_vol', 'vsa_acc', 'vsa_acid', 'vsa_base', 'vsa_don', 'vsa_hyd', 'vsa_other', 'vsa_pol', 'Weight', 'weinerPath', 'weinerPol', 'zagreb']\n"
       ]
      }
     ],
     "prompt_number": 5
    },
    {
     "cell_type": "code",
     "collapsed": false,
     "input": [
      "# Isolate response variable\n",
      "ActivityScore = twoC19_train['ActivityScore']\n",
      "y_train = np.where(ActivityScore >= 40,1,0)\n",
      "\n",
      "ActivityScore2 = twoC19_test['ActivityScore']\n",
      "y_test = np.where(ActivityScore2 >= 40,1,0)"
     ],
     "language": "python",
     "metadata": {},
     "outputs": [],
     "prompt_number": 6
    },
    {
     "cell_type": "code",
     "collapsed": false,
     "input": [
      "# looks right sized\n",
      "y_train.shape, y_test.shape"
     ],
     "language": "python",
     "metadata": {},
     "outputs": [
      {
       "metadata": {},
       "output_type": "pyout",
       "prompt_number": 7,
       "text": [
        "((9462,), (2366,))"
       ]
      }
     ],
     "prompt_number": 7
    },
    {
     "cell_type": "code",
     "collapsed": false,
     "input": [
      "y_test"
     ],
     "language": "python",
     "metadata": {},
     "outputs": [
      {
       "metadata": {},
       "output_type": "pyout",
       "prompt_number": 8,
       "text": [
        "array([1, 1, 0, ..., 1, 0, 0])"
       ]
      }
     ],
     "prompt_number": 8
    },
    {
     "cell_type": "code",
     "collapsed": false,
     "input": [
      "# We don't need this column anymore\n",
      "to_drop = ['ActivityScore']\n",
      "inhib_feat_space = twoC19_train.drop(to_drop,axis=1)\n",
      "inhib_feat_space_test = twoC19_test.drop(to_drop,axis=1)"
     ],
     "language": "python",
     "metadata": {},
     "outputs": [],
     "prompt_number": 9
    },
    {
     "cell_type": "code",
     "collapsed": false,
     "input": [
      "# Pull out features for future use\n",
      "features = inhib_feat_space.columns\n",
      "features_test = inhib_feat_space_test.columns"
     ],
     "language": "python",
     "metadata": {},
     "outputs": [],
     "prompt_number": 10
    },
    {
     "cell_type": "code",
     "collapsed": false,
     "input": [
      "X_train = inhib_feat_space.as_matrix().astype(np.float)\n",
      "X_test = inhib_feat_space_test.as_matrix().astype(np.float)"
     ],
     "language": "python",
     "metadata": {},
     "outputs": [],
     "prompt_number": 11
    },
    {
     "cell_type": "code",
     "collapsed": false,
     "input": [
      "X_train.shape, X_test.shape"
     ],
     "language": "python",
     "metadata": {},
     "outputs": [
      {
       "metadata": {},
       "output_type": "pyout",
       "prompt_number": 12,
       "text": [
        "((9462, 186), (2366, 186))"
       ]
      }
     ],
     "prompt_number": 12
    },
    {
     "cell_type": "code",
     "collapsed": false,
     "input": [
      "n_pos1 = y_test.sum()\n",
      "n_pos1"
     ],
     "language": "python",
     "metadata": {},
     "outputs": [
      {
       "metadata": {},
       "output_type": "pyout",
       "prompt_number": 13,
       "text": [
        "1193"
       ]
      }
     ],
     "prompt_number": 13
    },
    {
     "cell_type": "code",
     "collapsed": false,
     "input": [
      "n_pos2 = y_train.sum()\n",
      "n_pos2"
     ],
     "language": "python",
     "metadata": {},
     "outputs": [
      {
       "metadata": {},
       "output_type": "pyout",
       "prompt_number": 14,
       "text": [
        "4721"
       ]
      }
     ],
     "prompt_number": 14
    },
    {
     "cell_type": "code",
     "collapsed": false,
     "input": [
      "print('Feature space holds '+repr(X_train.shape[0])+' observations and '+repr(X_test.shape[1])+' features')\n",
      "print('Unique target labels: '+repr(np.unique(y_train)))\n",
      "\n",
      "print('Feature space holds '+repr(X_test.shape[0])+' observations and '+repr(X_test.shape[1])+' features')\n",
      "print('Unique target labels: '+repr(np.unique(y_test)))"
     ],
     "language": "python",
     "metadata": {},
     "outputs": [
      {
       "output_type": "stream",
       "stream": "stdout",
       "text": [
        "Feature space holds 9462 observations and 186 features\n",
        "Unique target labels: array([0, 1])\n",
        "Feature space holds 2366 observations and 186 features\n",
        "Unique target labels: array([0, 1])\n"
       ]
      }
     ],
     "prompt_number": 15
    },
    {
     "cell_type": "code",
     "collapsed": false,
     "input": [
      "X_test.shape[1]"
     ],
     "language": "python",
     "metadata": {},
     "outputs": [
      {
       "metadata": {},
       "output_type": "pyout",
       "prompt_number": 16,
       "text": [
        "186"
       ]
      }
     ],
     "prompt_number": 16
    },
    {
     "cell_type": "heading",
     "level": 2,
     "metadata": {},
     "source": [
      "Scale the features before training model"
     ]
    },
    {
     "cell_type": "code",
     "collapsed": false,
     "input": [
      "# This is important\n",
      "from sklearn.preprocessing import StandardScaler\n",
      "scaler = StandardScaler()\n",
      "X_train = scaler.fit_transform(X_train)\n",
      "X_test = scaler.fit_transform(X_test)"
     ],
     "language": "python",
     "metadata": {},
     "outputs": [],
     "prompt_number": 17
    },
    {
     "cell_type": "code",
     "collapsed": false,
     "input": [
      "from sklearn.cross_validation import KFold\n",
      "\n",
      "def run_cv(X,y,clf_class,**kwargs):\n",
      "    # Construct a kfolds object\n",
      "    kf = KFold(len(y),n_folds=5,shuffle=True)\n",
      "    y_pred = y.copy()\n",
      "    \n",
      "    # Iterate through folds\n",
      "    for train_index, test_index in kf:\n",
      "        X_train, X_test = X[train_index], X[test_index]\n",
      "        y_train = y[train_index]\n",
      "        # Initialize a classifier with key word arguments\n",
      "        clf = clf_class(**kwargs)\n",
      "        clf.fit(X_train,y_train)\n",
      "        y_pred[test_index] = clf.predict(X_test)\n",
      "    return y_pred"
     ],
     "language": "python",
     "metadata": {},
     "outputs": [],
     "prompt_number": 18
    },
    {
     "cell_type": "code",
     "collapsed": false,
     "input": [
      "from sklearn.svm import SVC\n",
      "from sklearn.ensemble import RandomForestClassifier as RF\n",
      "from sklearn.neighbors import KNeighborsClassifier as KNN\n",
      "\n",
      "def accuracy(y_true,y_pred):\n",
      "    # NumPy interpretes True and False as 1. and 0.\n",
      "    return np.mean(y_true == y_pred)\n",
      "\n",
      "print(\"K-nearest-neighbors (training set):\")\n",
      "print(\"%.3f\" % accuracy(y_train, run_cv(X_train,y_train,KNN)))\n",
      "print(\"K-nearest-neighbors (test set):\")\n",
      "print(\"%.3f\" % accuracy(y_test, run_cv(X_test,y_test,KNN)))\n",
      "print('Support vector machines (training set):')\n",
      "print(\"%.3f\" % accuracy(y_train, run_cv(X_train,y_train,SVC)))\n",
      "print('Support vector machines (test set):')\n",
      "print(\"%.3f\" % accuracy(y_test, run_cv(X_test,y_test,SVC)))\n",
      "print(\"Random forest (training set):\")\n",
      "print(\"%.3f\" % accuracy(y_train, run_cv(X_train,y_train,RF)))\n",
      "print(\"Random forest (test set):\")\n",
      "print(\"%.3f\" % accuracy(y_test, run_cv(X_test,y_test,RF)))\n"
     ],
     "language": "python",
     "metadata": {},
     "outputs": [
      {
       "output_type": "stream",
       "stream": "stdout",
       "text": [
        "K-nearest-neighbors (training set):\n",
        "0.730"
       ]
      },
      {
       "output_type": "stream",
       "stream": "stdout",
       "text": [
        "\n",
        "K-nearest-neighbors (test set):\n",
        "0.720"
       ]
      },
      {
       "output_type": "stream",
       "stream": "stderr",
       "text": [
        "/home/ubuntu/miniconda3/lib/python3.3/site-packages/sklearn/svm/base.py:233: DeprecationWarning: using a non-integer number instead of an integer will result in an error in the future\n",
        "  max_iter=self.max_iter, random_seed=random_seed)\n",
        "/home/ubuntu/miniconda3/lib/python3.3/site-packages/sklearn/svm/base.py:233: DeprecationWarning: using a non-integer number instead of an integer will result in an error in the future\n",
        "  max_iter=self.max_iter, random_seed=random_seed)\n"
       ]
      },
      {
       "output_type": "stream",
       "stream": "stderr",
       "text": [
        "/home/ubuntu/miniconda3/lib/python3.3/site-packages/sklearn/svm/base.py:233: DeprecationWarning: using a non-integer number instead of an integer will result in an error in the future\n",
        "  max_iter=self.max_iter, random_seed=random_seed)\n",
        "/home/ubuntu/miniconda3/lib/python3.3/site-packages/sklearn/svm/base.py:233: DeprecationWarning: using a non-integer number instead of an integer will result in an error in the future\n",
        "  max_iter=self.max_iter, random_seed=random_seed)\n"
       ]
      },
      {
       "output_type": "stream",
       "stream": "stdout",
       "text": [
        "\n",
        "Support vector machines (training set):\n",
        "0.767"
       ]
      },
      {
       "output_type": "stream",
       "stream": "stderr",
       "text": [
        "/home/ubuntu/miniconda3/lib/python3.3/site-packages/sklearn/svm/base.py:233: DeprecationWarning: using a non-integer number instead of an integer will result in an error in the future\n",
        "  max_iter=self.max_iter, random_seed=random_seed)\n",
        "/home/ubuntu/miniconda3/lib/python3.3/site-packages/sklearn/svm/base.py:233: DeprecationWarning: using a non-integer number instead of an integer will result in an error in the future\n",
        "  max_iter=self.max_iter, random_seed=random_seed)\n"
       ]
      },
      {
       "output_type": "stream",
       "stream": "stderr",
       "text": [
        "/home/ubuntu/miniconda3/lib/python3.3/site-packages/sklearn/svm/base.py:233: DeprecationWarning: using a non-integer number instead of an integer will result in an error in the future\n",
        "  max_iter=self.max_iter, random_seed=random_seed)\n",
        "/home/ubuntu/miniconda3/lib/python3.3/site-packages/sklearn/svm/base.py:233: DeprecationWarning: using a non-integer number instead of an integer will result in an error in the future\n",
        "  max_iter=self.max_iter, random_seed=random_seed)\n"
       ]
      },
      {
       "output_type": "stream",
       "stream": "stderr",
       "text": [
        "/home/ubuntu/miniconda3/lib/python3.3/site-packages/sklearn/svm/base.py:233: DeprecationWarning: using a non-integer number instead of an integer will result in an error in the future\n",
        "  max_iter=self.max_iter, random_seed=random_seed)\n",
        "/home/ubuntu/miniconda3/lib/python3.3/site-packages/sklearn/svm/base.py:233: DeprecationWarning: using a non-integer number instead of an integer will result in an error in the future\n",
        "  max_iter=self.max_iter, random_seed=random_seed)\n"
       ]
      },
      {
       "output_type": "stream",
       "stream": "stdout",
       "text": [
        "\n",
        "Support vector machines (test set):\n",
        "0.756"
       ]
      },
      {
       "output_type": "stream",
       "stream": "stdout",
       "text": [
        "\n",
        "Random forest (training set):\n",
        "0.736"
       ]
      },
      {
       "output_type": "stream",
       "stream": "stdout",
       "text": [
        "\n",
        "Random forest (test set):\n",
        "0.721"
       ]
      },
      {
       "output_type": "stream",
       "stream": "stdout",
       "text": [
        "\n"
       ]
      }
     ],
     "prompt_number": 19
    },
    {
     "cell_type": "code",
     "collapsed": false,
     "input": [
      "from sklearn.metrics import confusion_matrix\n",
      "\n",
      "y_train = np.array(y_train)\n",
      "class_names = np.unique(y_train)\n",
      "\n",
      "confusion_matrices_training = [\n",
      "    ( \"K-Nearest-Neighbors training\", confusion_matrix(y_train,run_cv(X_train,y_train,KNN)) ),\n",
      "    ( \"Support Vector Machines training\", confusion_matrix(y_train,run_cv(X_train,y_train,SVC)) ),\n",
      "    ( \"Random Forest taining\", confusion_matrix(y_train,run_cv(X_train,y_train,RF)) ),\n",
      "]\n",
      "\n",
      "y_test = np.array(y_test)\n",
      "class_names = np.unique(y_test)\n",
      "\n",
      "confusion_matrices_test = [\n",
      "    ( \"K-Nearest-Neighbors test\", confusion_matrix(y_test,run_cv(X_test,y_test,KNN)) ),\n",
      "    ( \"Support Vector Machines test\", confusion_matrix(y_test,run_cv(X_test,y_test,SVC)) ),\n",
      "    ( \"Random Forest test\", confusion_matrix(y_test,run_cv(X_test,y_test,RF)) ),\n",
      "]\n",
      "\n",
      "#draw_confusion_matrices(confusion_matrices,class_names)\n",
      "confusion_matrices_training, confusion_matrices_test"
     ],
     "language": "python",
     "metadata": {},
     "outputs": [
      {
       "output_type": "stream",
       "stream": "stderr",
       "text": [
        "/home/ubuntu/miniconda3/lib/python3.3/site-packages/sklearn/svm/base.py:233: DeprecationWarning: using a non-integer number instead of an integer will result in an error in the future\n",
        "  max_iter=self.max_iter, random_seed=random_seed)\n",
        "/home/ubuntu/miniconda3/lib/python3.3/site-packages/sklearn/svm/base.py:233: DeprecationWarning: using a non-integer number instead of an integer will result in an error in the future\n",
        "  max_iter=self.max_iter, random_seed=random_seed)\n"
       ]
      },
      {
       "output_type": "stream",
       "stream": "stderr",
       "text": [
        "/home/ubuntu/miniconda3/lib/python3.3/site-packages/sklearn/svm/base.py:233: DeprecationWarning: using a non-integer number instead of an integer will result in an error in the future\n",
        "  max_iter=self.max_iter, random_seed=random_seed)\n",
        "/home/ubuntu/miniconda3/lib/python3.3/site-packages/sklearn/svm/base.py:233: DeprecationWarning: using a non-integer number instead of an integer will result in an error in the future\n",
        "  max_iter=self.max_iter, random_seed=random_seed)\n"
       ]
      },
      {
       "output_type": "stream",
       "stream": "stderr",
       "text": [
        "/home/ubuntu/miniconda3/lib/python3.3/site-packages/sklearn/svm/base.py:233: DeprecationWarning: using a non-integer number instead of an integer will result in an error in the future\n",
        "  max_iter=self.max_iter, random_seed=random_seed)\n",
        "/home/ubuntu/miniconda3/lib/python3.3/site-packages/sklearn/svm/base.py:233: DeprecationWarning: using a non-integer number instead of an integer will result in an error in the future\n",
        "  max_iter=self.max_iter, random_seed=random_seed)\n"
       ]
      },
      {
       "output_type": "stream",
       "stream": "stderr",
       "text": [
        "/home/ubuntu/miniconda3/lib/python3.3/site-packages/sklearn/svm/base.py:233: DeprecationWarning: using a non-integer number instead of an integer will result in an error in the future\n",
        "  max_iter=self.max_iter, random_seed=random_seed)\n",
        "/home/ubuntu/miniconda3/lib/python3.3/site-packages/sklearn/svm/base.py:233: DeprecationWarning: using a non-integer number instead of an integer will result in an error in the future\n",
        "  max_iter=self.max_iter, random_seed=random_seed)\n"
       ]
      },
      {
       "output_type": "stream",
       "stream": "stderr",
       "text": [
        "/home/ubuntu/miniconda3/lib/python3.3/site-packages/sklearn/svm/base.py:233: DeprecationWarning: using a non-integer number instead of an integer will result in an error in the future\n",
        "  max_iter=self.max_iter, random_seed=random_seed)\n",
        "/home/ubuntu/miniconda3/lib/python3.3/site-packages/sklearn/svm/base.py:233: DeprecationWarning: using a non-integer number instead of an integer will result in an error in the future\n",
        "  max_iter=self.max_iter, random_seed=random_seed)\n"
       ]
      },
      {
       "metadata": {},
       "output_type": "pyout",
       "prompt_number": 21,
       "text": [
        "([('K-Nearest-Neighbors training', array([[3322, 1419],\n",
        "          [1113, 3608]])),\n",
        "  ('Support Vector Machines training', array([[3451, 1290],\n",
        "          [ 934, 3787]])),\n",
        "  ('Random Forest taining', array([[3623, 1118],\n",
        "          [1407, 3314]]))],\n",
        " [('K-Nearest-Neighbors test', array([[823, 350],\n",
        "          [301, 892]])), ('Support Vector Machines test', array([[832, 341],\n",
        "          [233, 960]])), ('Random Forest test', array([[890, 283],\n",
        "          [387, 806]]))])"
       ]
      }
     ],
     "prompt_number": 21
    },
    {
     "cell_type": "code",
     "collapsed": false,
     "input": [],
     "language": "python",
     "metadata": {},
     "outputs": []
    },
    {
     "cell_type": "code",
     "collapsed": false,
     "input": [],
     "language": "python",
     "metadata": {},
     "outputs": []
    },
    {
     "cell_type": "code",
     "collapsed": false,
     "input": [
      "def run_prob_cv(X, y, clf_class, **kwargs):\n",
      "    kf = KFold(len(y), n_folds=5, shuffle=True)\n",
      "    y_prob = np.zeros((len(y),2))\n",
      "    for train_index, test_index in kf:\n",
      "        X_train, X_test = X[train_index], X[test_index]\n",
      "        y_train = y[train_index]\n",
      "        clf = clf_class(**kwargs)\n",
      "        clf.fit(X_train,y_train)\n",
      "        # Predict probabilities, not classes\n",
      "        y_prob[test_index] = clf.predict_proba(X_test)\n",
      "    return y_prob"
     ],
     "language": "python",
     "metadata": {},
     "outputs": [],
     "prompt_number": 22
    },
    {
     "cell_type": "code",
     "collapsed": false,
     "input": [
      "import warnings\n",
      "warnings.filterwarnings('ignore')\n",
      "\n",
      "# Use 10 estimators so predictions are all multiples of 0.1\n",
      "pred_prob = run_prob_cv(X_train, y_train, RF, n_estimators=10)\n",
      "pred_churn = pred_prob[:,1]\n",
      "is_churn = y_train == 1\n",
      "\n",
      "# Number of times a predicted probability is assigned to an observation\n",
      "counts = pd.value_counts(pred_churn)\n",
      "\n",
      "# calculate true probabilities\n",
      "true_prob = {}\n",
      "for prob in counts.index:\n",
      "    true_prob[prob] = np.mean(is_churn[pred_churn == prob])\n",
      "    true_prob = pd.Series(true_prob)\n",
      "\n",
      "# pandas-fu\n",
      "counts = pd.concat([counts,true_prob], axis=1).reset_index()\n",
      "counts.columns = ['pred_prob', 'count', 'true_prob']\n",
      "counts"
     ],
     "language": "python",
     "metadata": {},
     "outputs": [
      {
       "html": [
        "<div style=\"max-height:1000px;max-width:1500px;overflow:auto;\">\n",
        "<table border=\"1\" class=\"dataframe\">\n",
        "  <thead>\n",
        "    <tr style=\"text-align: right;\">\n",
        "      <th></th>\n",
        "      <th>pred_prob</th>\n",
        "      <th>count</th>\n",
        "      <th>true_prob</th>\n",
        "    </tr>\n",
        "  </thead>\n",
        "  <tbody>\n",
        "    <tr>\n",
        "      <th>0 </th>\n",
        "      <td> 0.700000</td>\n",
        "      <td> 1021</td>\n",
        "      <td> 0.737512</td>\n",
        "    </tr>\n",
        "    <tr>\n",
        "      <th>1 </th>\n",
        "      <td> 0.800000</td>\n",
        "      <td> 1017</td>\n",
        "      <td> 0.762045</td>\n",
        "    </tr>\n",
        "    <tr>\n",
        "      <th>2 </th>\n",
        "      <td> 0.600000</td>\n",
        "      <td>  926</td>\n",
        "      <td> 0.625270</td>\n",
        "    </tr>\n",
        "    <tr>\n",
        "      <th>3 </th>\n",
        "      <td> 0.500000</td>\n",
        "      <td>  886</td>\n",
        "      <td> 0.557562</td>\n",
        "    </tr>\n",
        "    <tr>\n",
        "      <th>4 </th>\n",
        "      <td> 0.100000</td>\n",
        "      <td>  868</td>\n",
        "      <td> 0.125576</td>\n",
        "    </tr>\n",
        "    <tr>\n",
        "      <th>5 </th>\n",
        "      <td> 0.200000</td>\n",
        "      <td>  849</td>\n",
        "      <td> 0.215548</td>\n",
        "    </tr>\n",
        "    <tr>\n",
        "      <th>6 </th>\n",
        "      <td> 0.900000</td>\n",
        "      <td>  843</td>\n",
        "      <td> 0.814947</td>\n",
        "    </tr>\n",
        "    <tr>\n",
        "      <th>7 </th>\n",
        "      <td> 0.300000</td>\n",
        "      <td>  817</td>\n",
        "      <td> 0.283966</td>\n",
        "    </tr>\n",
        "    <tr>\n",
        "      <th>8 </th>\n",
        "      <td> 0.400000</td>\n",
        "      <td>  772</td>\n",
        "      <td> 0.409326</td>\n",
        "    </tr>\n",
        "    <tr>\n",
        "      <th>9 </th>\n",
        "      <td> 0.000000</td>\n",
        "      <td>  728</td>\n",
        "      <td> 0.081044</td>\n",
        "    </tr>\n",
        "    <tr>\n",
        "      <th>10</th>\n",
        "      <td> 1.000000</td>\n",
        "      <td>  515</td>\n",
        "      <td> 0.887379</td>\n",
        "    </tr>\n",
        "    <tr>\n",
        "      <th>11</th>\n",
        "      <td> 0.050000</td>\n",
        "      <td>   17</td>\n",
        "      <td> 0.058824</td>\n",
        "    </tr>\n",
        "    <tr>\n",
        "      <th>12</th>\n",
        "      <td> 0.350000</td>\n",
        "      <td>   13</td>\n",
        "      <td> 0.461538</td>\n",
        "    </tr>\n",
        "    <tr>\n",
        "      <th>13</th>\n",
        "      <td> 0.150000</td>\n",
        "      <td>   12</td>\n",
        "      <td> 0.166667</td>\n",
        "    </tr>\n",
        "    <tr>\n",
        "      <th>14</th>\n",
        "      <td> 0.250000</td>\n",
        "      <td>   12</td>\n",
        "      <td> 0.166667</td>\n",
        "    </tr>\n",
        "    <tr>\n",
        "      <th>15</th>\n",
        "      <td> 0.450000</td>\n",
        "      <td>   10</td>\n",
        "      <td> 0.400000</td>\n",
        "    </tr>\n",
        "    <tr>\n",
        "      <th>16</th>\n",
        "      <td> 0.166667</td>\n",
        "      <td>    9</td>\n",
        "      <td> 0.000000</td>\n",
        "    </tr>\n",
        "    <tr>\n",
        "      <th>17</th>\n",
        "      <td> 0.330833</td>\n",
        "      <td>    7</td>\n",
        "      <td> 0.714286</td>\n",
        "    </tr>\n",
        "    <tr>\n",
        "      <th>18</th>\n",
        "      <td> 0.133333</td>\n",
        "      <td>    7</td>\n",
        "      <td> 0.428571</td>\n",
        "    </tr>\n",
        "    <tr>\n",
        "      <th>19</th>\n",
        "      <td> 0.550000</td>\n",
        "      <td>    6</td>\n",
        "      <td> 0.500000</td>\n",
        "    </tr>\n",
        "    <tr>\n",
        "      <th>20</th>\n",
        "      <td> 0.587897</td>\n",
        "      <td>    5</td>\n",
        "      <td> 0.400000</td>\n",
        "    </tr>\n",
        "    <tr>\n",
        "      <th>21</th>\n",
        "      <td> 0.333333</td>\n",
        "      <td>    5</td>\n",
        "      <td> 0.000000</td>\n",
        "    </tr>\n",
        "    <tr>\n",
        "      <th>22</th>\n",
        "      <td> 0.233333</td>\n",
        "      <td>    5</td>\n",
        "      <td> 0.600000</td>\n",
        "    </tr>\n",
        "    <tr>\n",
        "      <th>23</th>\n",
        "      <td> 0.233333</td>\n",
        "      <td>    4</td>\n",
        "      <td> 0.500000</td>\n",
        "    </tr>\n",
        "    <tr>\n",
        "      <th>24</th>\n",
        "      <td> 0.225000</td>\n",
        "      <td>    4</td>\n",
        "      <td> 0.000000</td>\n",
        "    </tr>\n",
        "    <tr>\n",
        "      <th>25</th>\n",
        "      <td> 0.566667</td>\n",
        "      <td>    4</td>\n",
        "      <td> 0.750000</td>\n",
        "    </tr>\n",
        "    <tr>\n",
        "      <th>26</th>\n",
        "      <td> 0.266667</td>\n",
        "      <td>    4</td>\n",
        "      <td> 0.250000</td>\n",
        "    </tr>\n",
        "    <tr>\n",
        "      <th>27</th>\n",
        "      <td> 0.425000</td>\n",
        "      <td>    4</td>\n",
        "      <td> 0.500000</td>\n",
        "    </tr>\n",
        "    <tr>\n",
        "      <th>28</th>\n",
        "      <td> 0.650000</td>\n",
        "      <td>    4</td>\n",
        "      <td> 1.000000</td>\n",
        "    </tr>\n",
        "    <tr>\n",
        "      <th>29</th>\n",
        "      <td> 0.750000</td>\n",
        "      <td>    3</td>\n",
        "      <td> 1.000000</td>\n",
        "    </tr>\n",
        "    <tr>\n",
        "      <th>...</th>\n",
        "      <td>...</td>\n",
        "      <td>...</td>\n",
        "      <td>...</td>\n",
        "    </tr>\n",
        "    <tr>\n",
        "      <th>63</th>\n",
        "      <td> 0.540000</td>\n",
        "      <td>    1</td>\n",
        "      <td> 0.000000</td>\n",
        "    </tr>\n",
        "    <tr>\n",
        "      <th>64</th>\n",
        "      <td> 0.628964</td>\n",
        "      <td>    1</td>\n",
        "      <td> 0.000000</td>\n",
        "    </tr>\n",
        "    <tr>\n",
        "      <th>65</th>\n",
        "      <td> 0.725000</td>\n",
        "      <td>    1</td>\n",
        "      <td> 1.000000</td>\n",
        "    </tr>\n",
        "    <tr>\n",
        "      <th>66</th>\n",
        "      <td> 0.116667</td>\n",
        "      <td>    1</td>\n",
        "      <td> 0.000000</td>\n",
        "    </tr>\n",
        "    <tr>\n",
        "      <th>67</th>\n",
        "      <td> 0.570523</td>\n",
        "      <td>    1</td>\n",
        "      <td> 1.000000</td>\n",
        "    </tr>\n",
        "    <tr>\n",
        "      <th>68</th>\n",
        "      <td> 0.666667</td>\n",
        "      <td>    1</td>\n",
        "      <td> 0.000000</td>\n",
        "    </tr>\n",
        "    <tr>\n",
        "      <th>69</th>\n",
        "      <td> 0.456667</td>\n",
        "      <td>    1</td>\n",
        "      <td> 1.000000</td>\n",
        "    </tr>\n",
        "    <tr>\n",
        "      <th>70</th>\n",
        "      <td> 0.346667</td>\n",
        "      <td>    1</td>\n",
        "      <td> 0.000000</td>\n",
        "    </tr>\n",
        "    <tr>\n",
        "      <th>71</th>\n",
        "      <td> 0.080000</td>\n",
        "      <td>    1</td>\n",
        "      <td> 0.000000</td>\n",
        "    </tr>\n",
        "    <tr>\n",
        "      <th>72</th>\n",
        "      <td> 0.785714</td>\n",
        "      <td>    1</td>\n",
        "      <td> 1.000000</td>\n",
        "    </tr>\n",
        "    <tr>\n",
        "      <th>73</th>\n",
        "      <td> 0.333333</td>\n",
        "      <td>    1</td>\n",
        "      <td> 0.000000</td>\n",
        "    </tr>\n",
        "    <tr>\n",
        "      <th>74</th>\n",
        "      <td> 0.460000</td>\n",
        "      <td>    1</td>\n",
        "      <td> 1.000000</td>\n",
        "    </tr>\n",
        "    <tr>\n",
        "      <th>75</th>\n",
        "      <td> 0.777222</td>\n",
        "      <td>    1</td>\n",
        "      <td> 1.000000</td>\n",
        "    </tr>\n",
        "    <tr>\n",
        "      <th>76</th>\n",
        "      <td> 0.729412</td>\n",
        "      <td>    1</td>\n",
        "      <td> 1.000000</td>\n",
        "    </tr>\n",
        "    <tr>\n",
        "      <th>77</th>\n",
        "      <td> 0.575000</td>\n",
        "      <td>    1</td>\n",
        "      <td> 0.000000</td>\n",
        "    </tr>\n",
        "    <tr>\n",
        "      <th>78</th>\n",
        "      <td> 0.866667</td>\n",
        "      <td>    1</td>\n",
        "      <td> 1.000000</td>\n",
        "    </tr>\n",
        "    <tr>\n",
        "      <th>79</th>\n",
        "      <td> 0.688889</td>\n",
        "      <td>    1</td>\n",
        "      <td> 1.000000</td>\n",
        "    </tr>\n",
        "    <tr>\n",
        "      <th>80</th>\n",
        "      <td> 0.440000</td>\n",
        "      <td>    1</td>\n",
        "      <td> 0.000000</td>\n",
        "    </tr>\n",
        "    <tr>\n",
        "      <th>81</th>\n",
        "      <td> 0.766667</td>\n",
        "      <td>    1</td>\n",
        "      <td> 0.000000</td>\n",
        "    </tr>\n",
        "    <tr>\n",
        "      <th>82</th>\n",
        "      <td> 0.306667</td>\n",
        "      <td>    1</td>\n",
        "      <td> 0.000000</td>\n",
        "    </tr>\n",
        "    <tr>\n",
        "      <th>83</th>\n",
        "      <td> 0.766667</td>\n",
        "      <td>    1</td>\n",
        "      <td> 0.000000</td>\n",
        "    </tr>\n",
        "    <tr>\n",
        "      <th>84</th>\n",
        "      <td> 0.485714</td>\n",
        "      <td>    1</td>\n",
        "      <td> 0.000000</td>\n",
        "    </tr>\n",
        "    <tr>\n",
        "      <th>85</th>\n",
        "      <td> 0.880000</td>\n",
        "      <td>    1</td>\n",
        "      <td> 1.000000</td>\n",
        "    </tr>\n",
        "    <tr>\n",
        "      <th>86</th>\n",
        "      <td> 0.660000</td>\n",
        "      <td>    1</td>\n",
        "      <td> 1.000000</td>\n",
        "    </tr>\n",
        "    <tr>\n",
        "      <th>87</th>\n",
        "      <td> 0.860000</td>\n",
        "      <td>    1</td>\n",
        "      <td> 1.000000</td>\n",
        "    </tr>\n",
        "    <tr>\n",
        "      <th>88</th>\n",
        "      <td> 0.546667</td>\n",
        "      <td>    1</td>\n",
        "      <td> 0.000000</td>\n",
        "    </tr>\n",
        "    <tr>\n",
        "      <th>89</th>\n",
        "      <td> 0.044444</td>\n",
        "      <td>    1</td>\n",
        "      <td> 0.000000</td>\n",
        "    </tr>\n",
        "    <tr>\n",
        "      <th>90</th>\n",
        "      <td> 0.556190</td>\n",
        "      <td>    1</td>\n",
        "      <td> 1.000000</td>\n",
        "    </tr>\n",
        "    <tr>\n",
        "      <th>91</th>\n",
        "      <td> 0.371667</td>\n",
        "      <td>    1</td>\n",
        "      <td> 0.000000</td>\n",
        "    </tr>\n",
        "    <tr>\n",
        "      <th>92</th>\n",
        "      <td> 0.383333</td>\n",
        "      <td>    1</td>\n",
        "      <td> 0.000000</td>\n",
        "    </tr>\n",
        "  </tbody>\n",
        "</table>\n",
        "<p>93 rows \u00d7 3 columns</p>\n",
        "</div>"
       ],
       "metadata": {},
       "output_type": "pyout",
       "prompt_number": 24,
       "text": [
        "    pred_prob  count  true_prob\n",
        "0    0.700000   1021   0.737512\n",
        "1    0.800000   1017   0.762045\n",
        "2    0.600000    926   0.625270\n",
        "3    0.500000    886   0.557562\n",
        "4    0.100000    868   0.125576\n",
        "5    0.200000    849   0.215548\n",
        "6    0.900000    843   0.814947\n",
        "7    0.300000    817   0.283966\n",
        "8    0.400000    772   0.409326\n",
        "9    0.000000    728   0.081044\n",
        "10   1.000000    515   0.887379\n",
        "11   0.050000     17   0.058824\n",
        "12   0.350000     13   0.461538\n",
        "13   0.150000     12   0.166667\n",
        "14   0.250000     12   0.166667\n",
        "15   0.450000     10   0.400000\n",
        "16   0.166667      9   0.000000\n",
        "17   0.330833      7   0.714286\n",
        "18   0.133333      7   0.428571\n",
        "19   0.550000      6   0.500000\n",
        "20   0.587897      5   0.400000\n",
        "21   0.333333      5   0.000000\n",
        "22   0.233333      5   0.600000\n",
        "23   0.233333      4   0.500000\n",
        "24   0.225000      4   0.000000\n",
        "25   0.566667      4   0.750000\n",
        "26   0.266667      4   0.250000\n",
        "27   0.425000      4   0.500000\n",
        "28   0.650000      4   1.000000\n",
        "29   0.750000      3   1.000000\n",
        "..        ...    ...        ...\n",
        "63   0.540000      1   0.000000\n",
        "64   0.628964      1   0.000000\n",
        "65   0.725000      1   1.000000\n",
        "66   0.116667      1   0.000000\n",
        "67   0.570523      1   1.000000\n",
        "68   0.666667      1   0.000000\n",
        "69   0.456667      1   1.000000\n",
        "70   0.346667      1   0.000000\n",
        "71   0.080000      1   0.000000\n",
        "72   0.785714      1   1.000000\n",
        "73   0.333333      1   0.000000\n",
        "74   0.460000      1   1.000000\n",
        "75   0.777222      1   1.000000\n",
        "76   0.729412      1   1.000000\n",
        "77   0.575000      1   0.000000\n",
        "78   0.866667      1   1.000000\n",
        "79   0.688889      1   1.000000\n",
        "80   0.440000      1   0.000000\n",
        "81   0.766667      1   0.000000\n",
        "82   0.306667      1   0.000000\n",
        "83   0.766667      1   0.000000\n",
        "84   0.485714      1   0.000000\n",
        "85   0.880000      1   1.000000\n",
        "86   0.660000      1   1.000000\n",
        "87   0.860000      1   1.000000\n",
        "88   0.546667      1   0.000000\n",
        "89   0.044444      1   0.000000\n",
        "90   0.556190      1   1.000000\n",
        "91   0.371667      1   0.000000\n",
        "92   0.383333      1   0.000000\n",
        "\n",
        "[93 rows x 3 columns]"
       ]
      }
     ],
     "prompt_number": 24
    },
    {
     "cell_type": "code",
     "collapsed": false,
     "input": [
      "from ggplot import *\n",
      "%matplotlib inline\n",
      "\n",
      "baseline = np.mean(is_churn)\n",
      "ggplot(counts,aes(x='pred_prob',y='true_prob',size='count')) + \\\n",
      "    geom_point(color='blue') + \\\n",
      "    stat_function(fun = lambda x: x, color='red') + \\\n",
      "    stat_function(fun = lambda x: baseline, color='green') + \\\n",
      "    xlim(-0.05,  1.05) + ylim(-0.05,1.05) + \\\n",
      "    ggtitle(\"Classificatio by Random Forests\") + \\\n",
      "    xlab(\"Predicted probability\") + ylab(\"Relative frequency of outcome\")"
     ],
     "language": "python",
     "metadata": {},
     "outputs": [
      {
       "metadata": {},
       "output_type": "display_data",
       "png": "[encoded data removed]",
       "text": [
        "<matplotlib.figure.Figure at 0x7f0aa17fcc10>"
       ]
      },
      {
       "metadata": {},
       "output_type": "pyout",
       "prompt_number": 25,
       "text": [
        "<ggplot: (8730259059317)>"
       ]
      }
     ],
     "prompt_number": 25
    },
    {
     "cell_type": "code",
     "collapsed": false,
     "input": [
      "from sklearn.metrics import roc_auc_score"
     ],
     "language": "python",
     "metadata": {},
     "outputs": [],
     "prompt_number": 26
    },
    {
     "cell_type": "code",
     "collapsed": false,
     "input": [
      "roc_auc_score(is_churn, pred_churn)"
     ],
     "language": "python",
     "metadata": {},
     "outputs": [
      {
       "metadata": {},
       "output_type": "pyout",
       "prompt_number": 27,
       "text": [
        "0.80491387800365688"
       ]
      }
     ],
     "prompt_number": 27
    },
    {
     "cell_type": "code",
     "collapsed": false,
     "input": [
      "pred_prob"
     ],
     "language": "python",
     "metadata": {},
     "outputs": [
      {
       "metadata": {},
       "output_type": "pyout",
       "prompt_number": 28,
       "text": [
        "array([[ 0.3,  0.7],\n",
        "       [ 0.4,  0.6],\n",
        "       [ 0.5,  0.5],\n",
        "       ..., \n",
        "       [ 0.2,  0.8],\n",
        "       [ 0.3,  0.7],\n",
        "       [ 1. ,  0. ]])"
       ]
      }
     ],
     "prompt_number": 28
    },
    {
     "cell_type": "code",
     "collapsed": false,
     "input": [],
     "language": "python",
     "metadata": {},
     "outputs": []
    }
   ],
   "metadata": {}
  }
 ]
}