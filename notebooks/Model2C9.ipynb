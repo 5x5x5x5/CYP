{
 "metadata": {
  "name": "",
  "signature": "sha256:46cd047cdab64993b9a10ed7d808636b2c6c55d2aa6d10c28d3473840f1377ef"
 },
 "nbformat": 3,
 "nbformat_minor": 0,
 "worksheets": [
  {
   "cells": [
    {
     "cell_type": "code",
     "collapsed": false,
     "input": [
      "import numpy as np\n",
      "import pandas as pd\n",
      "import warnings\n",
      "warnings.filterwarnings('ignore')"
     ],
     "language": "python",
     "metadata": {},
     "outputs": [],
     "prompt_number": 1
    },
    {
     "cell_type": "heading",
     "level": 3,
     "metadata": {},
     "source": [
      "Train/Test split already done"
     ]
    },
    {
     "cell_type": "code",
     "collapsed": false,
     "input": [
      "#from sklearn.cross_validation import train_test_split\n",
      "\n",
      "# create 80%-20% train-test split\n",
      "#X_train, X_test, y_train, y_test = train_test_split(X, y, test_size=0.2, random_state=5555)"
     ],
     "language": "python",
     "metadata": {},
     "outputs": [],
     "prompt_number": 2
    },
    {
     "cell_type": "code",
     "collapsed": false,
     "input": [
      "twoC9_test = pd.read_csv(\"data/test2c9.csv\", index_col='SID')\n",
      "twoC9_train = pd.read_csv(\"data/training2c9.csv\", index_col='SID')"
     ],
     "language": "python",
     "metadata": {},
     "outputs": [],
     "prompt_number": 3
    },
    {
     "cell_type": "code",
     "collapsed": false,
     "input": [
      "twoC9_train.head()"
     ],
     "language": "python",
     "metadata": {},
     "outputs": [
      {
       "html": [
        "<div style=\"max-height:1000px;max-width:1500px;overflow:auto;\">\n",
        "<table border=\"1\" class=\"dataframe\">\n",
        "  <thead>\n",
        "    <tr style=\"text-align: right;\">\n",
        "      <th></th>\n",
        "      <th>ActivityScore</th>\n",
        "      <th>apol</th>\n",
        "      <th>a_acc</th>\n",
        "      <th>a_acid</th>\n",
        "      <th>a_aro</th>\n",
        "      <th>a_base</th>\n",
        "      <th>a_count</th>\n",
        "      <th>a_don</th>\n",
        "      <th>a_heavy</th>\n",
        "      <th>a_hyd</th>\n",
        "      <th>...</th>\n",
        "      <th>vsa_acid</th>\n",
        "      <th>vsa_base</th>\n",
        "      <th>vsa_don</th>\n",
        "      <th>vsa_hyd</th>\n",
        "      <th>vsa_other</th>\n",
        "      <th>vsa_pol</th>\n",
        "      <th>Weight</th>\n",
        "      <th>weinerPath</th>\n",
        "      <th>weinerPol</th>\n",
        "      <th>zagreb</th>\n",
        "    </tr>\n",
        "    <tr>\n",
        "      <th>SID</th>\n",
        "      <th></th>\n",
        "      <th></th>\n",
        "      <th></th>\n",
        "      <th></th>\n",
        "      <th></th>\n",
        "      <th></th>\n",
        "      <th></th>\n",
        "      <th></th>\n",
        "      <th></th>\n",
        "      <th></th>\n",
        "      <th></th>\n",
        "      <th></th>\n",
        "      <th></th>\n",
        "      <th></th>\n",
        "      <th></th>\n",
        "      <th></th>\n",
        "      <th></th>\n",
        "      <th></th>\n",
        "      <th></th>\n",
        "      <th></th>\n",
        "      <th></th>\n",
        "    </tr>\n",
        "  </thead>\n",
        "  <tbody>\n",
        "    <tr>\n",
        "      <th>4247169 </th>\n",
        "      <td> 42</td>\n",
        "      <td> 61.799446</td>\n",
        "      <td> 6</td>\n",
        "      <td> 0</td>\n",
        "      <td> 12</td>\n",
        "      <td> 0</td>\n",
        "      <td> 53</td>\n",
        "      <td> 2</td>\n",
        "      <td> 31</td>\n",
        "      <td> 18</td>\n",
        "      <td>...</td>\n",
        "      <td>  0.000000</td>\n",
        "      <td> 0</td>\n",
        "      <td> 11.365152</td>\n",
        "      <td> 259.517090</td>\n",
        "      <td> 63.639111</td>\n",
        "      <td> 62.756004</td>\n",
        "      <td> 422.44098</td>\n",
        "      <td> 3436</td>\n",
        "      <td> 47</td>\n",
        "      <td> 160</td>\n",
        "    </tr>\n",
        "    <tr>\n",
        "      <th>14744505</th>\n",
        "      <td> 23</td>\n",
        "      <td> 50.819481</td>\n",
        "      <td> 3</td>\n",
        "      <td> 0</td>\n",
        "      <td> 15</td>\n",
        "      <td> 0</td>\n",
        "      <td> 41</td>\n",
        "      <td> 1</td>\n",
        "      <td> 24</td>\n",
        "      <td> 18</td>\n",
        "      <td>...</td>\n",
        "      <td>  0.000000</td>\n",
        "      <td> 0</td>\n",
        "      <td>  0.000000</td>\n",
        "      <td> 262.144440</td>\n",
        "      <td> 12.949531</td>\n",
        "      <td> 32.816418</td>\n",
        "      <td> 339.41901</td>\n",
        "      <td> 1482</td>\n",
        "      <td> 37</td>\n",
        "      <td> 130</td>\n",
        "    </tr>\n",
        "    <tr>\n",
        "      <th>17409970</th>\n",
        "      <td> 44</td>\n",
        "      <td> 48.782272</td>\n",
        "      <td> 1</td>\n",
        "      <td> 0</td>\n",
        "      <td> 17</td>\n",
        "      <td> 0</td>\n",
        "      <td> 39</td>\n",
        "      <td> 0</td>\n",
        "      <td> 21</td>\n",
        "      <td> 18</td>\n",
        "      <td>...</td>\n",
        "      <td>  0.000000</td>\n",
        "      <td> 0</td>\n",
        "      <td>  0.000000</td>\n",
        "      <td> 276.754210</td>\n",
        "      <td> 13.166624</td>\n",
        "      <td>  5.682576</td>\n",
        "      <td> 294.42200</td>\n",
        "      <td> 1043</td>\n",
        "      <td> 28</td>\n",
        "      <td> 106</td>\n",
        "    </tr>\n",
        "    <tr>\n",
        "      <th>4253667 </th>\n",
        "      <td> 20</td>\n",
        "      <td> 37.195171</td>\n",
        "      <td> 4</td>\n",
        "      <td> 4</td>\n",
        "      <td> 16</td>\n",
        "      <td> 0</td>\n",
        "      <td> 26</td>\n",
        "      <td> 0</td>\n",
        "      <td> 22</td>\n",
        "      <td> 10</td>\n",
        "      <td>...</td>\n",
        "      <td> 54.267685</td>\n",
        "      <td> 0</td>\n",
        "      <td>  0.000000</td>\n",
        "      <td>  89.419365</td>\n",
        "      <td> 76.123856</td>\n",
        "      <td> 96.737106</td>\n",
        "      <td> 332.32001</td>\n",
        "      <td> 1103</td>\n",
        "      <td> 33</td>\n",
        "      <td> 116</td>\n",
        "    </tr>\n",
        "    <tr>\n",
        "      <th>11110647</th>\n",
        "      <td>  0</td>\n",
        "      <td> 50.529068</td>\n",
        "      <td> 0</td>\n",
        "      <td> 0</td>\n",
        "      <td> 12</td>\n",
        "      <td> 1</td>\n",
        "      <td> 40</td>\n",
        "      <td> 0</td>\n",
        "      <td> 21</td>\n",
        "      <td> 20</td>\n",
        "      <td>...</td>\n",
        "      <td>  0.000000</td>\n",
        "      <td> 0</td>\n",
        "      <td>  0.000000</td>\n",
        "      <td> 299.232030</td>\n",
        "      <td>  0.000000</td>\n",
        "      <td>  0.000000</td>\n",
        "      <td> 316.87601</td>\n",
        "      <td>  896</td>\n",
        "      <td> 33</td>\n",
        "      <td> 110</td>\n",
        "    </tr>\n",
        "  </tbody>\n",
        "</table>\n",
        "<p>5 rows \u00d7 187 columns</p>\n",
        "</div>"
       ],
       "metadata": {},
       "output_type": "pyout",
       "prompt_number": 4,
       "text": [
        "          ActivityScore       apol  a_acc  a_acid  a_aro  a_base  a_count  \\\n",
        "SID                                                                         \n",
        "4247169              42  61.799446      6       0     12       0       53   \n",
        "14744505             23  50.819481      3       0     15       0       41   \n",
        "17409970             44  48.782272      1       0     17       0       39   \n",
        "4253667              20  37.195171      4       4     16       0       26   \n",
        "11110647              0  50.529068      0       0     12       1       40   \n",
        "\n",
        "          a_don  a_heavy  a_hyd  ...     vsa_acid  vsa_base    vsa_don  \\\n",
        "SID                              ...                                     \n",
        "4247169       2       31     18  ...     0.000000         0  11.365152   \n",
        "14744505      1       24     18  ...     0.000000         0   0.000000   \n",
        "17409970      0       21     18  ...     0.000000         0   0.000000   \n",
        "4253667       0       22     10  ...    54.267685         0   0.000000   \n",
        "11110647      0       21     20  ...     0.000000         0   0.000000   \n",
        "\n",
        "             vsa_hyd  vsa_other    vsa_pol     Weight  weinerPath  weinerPol  \\\n",
        "SID                                                                            \n",
        "4247169   259.517090  63.639111  62.756004  422.44098        3436         47   \n",
        "14744505  262.144440  12.949531  32.816418  339.41901        1482         37   \n",
        "17409970  276.754210  13.166624   5.682576  294.42200        1043         28   \n",
        "4253667    89.419365  76.123856  96.737106  332.32001        1103         33   \n",
        "11110647  299.232030   0.000000   0.000000  316.87601         896         33   \n",
        "\n",
        "          zagreb  \n",
        "SID               \n",
        "4247169      160  \n",
        "14744505     130  \n",
        "17409970     106  \n",
        "4253667      116  \n",
        "11110647     110  \n",
        "\n",
        "[5 rows x 187 columns]"
       ]
      }
     ],
     "prompt_number": 4
    },
    {
     "cell_type": "code",
     "collapsed": false,
     "input": [
      "col_names2C9 = twoC9_train.columns.tolist()\n",
      "\n",
      "print('Column names:')\n",
      "print(col_names2C9)"
     ],
     "language": "python",
     "metadata": {},
     "outputs": [
      {
       "output_type": "stream",
       "stream": "stdout",
       "text": [
        "Column names:\n",
        "['ActivityScore', 'apol', 'a_acc', 'a_acid', 'a_aro', 'a_base', 'a_count', 'a_don', 'a_heavy', 'a_hyd', 'a_IC', 'a_ICM', 'a_nB', 'a_nBr', 'a_nC', 'a_nCl', 'a_nF', 'a_nH', 'a_nI', 'a_nN', 'a_nO', 'a_nP', 'a_nS', 'balabanJ', 'BCUT_PEOE_0', 'BCUT_PEOE_1', 'BCUT_PEOE_2', 'BCUT_PEOE_3', 'BCUT_SLOGP_0', 'BCUT_SLOGP_1', 'BCUT_SLOGP_2', 'BCUT_SLOGP_3', 'BCUT_SMR_0', 'BCUT_SMR_1', 'BCUT_SMR_2', 'BCUT_SMR_3', 'bpol', 'b_1rotN', 'b_1rotR', 'b_ar', 'b_count', 'b_double', 'b_heavy', 'b_rotN', 'b_rotR', 'b_single', 'b_triple', 'chi0', 'chi0v', 'chi0v_C', 'chi0_C', 'chi1', 'chi1v', 'chi1v_C', 'chi1_C', 'chiral', 'chiral_u', 'density', 'diameter', 'FCharge', 'GCUT_PEOE_0', 'GCUT_PEOE_1', 'GCUT_PEOE_2', 'GCUT_PEOE_3', 'GCUT_SLOGP_0', 'GCUT_SLOGP_1', 'GCUT_SLOGP_2', 'GCUT_SLOGP_3', 'GCUT_SMR_0', 'GCUT_SMR_1', 'GCUT_SMR_2', 'GCUT_SMR_3', 'Kier1', 'Kier2', 'Kier3', 'KierA1', 'KierA2', 'KierA3', 'KierFlex', 'lip_acc', 'lip_don', 'lip_druglike', 'lip_violation', 'logP(o/w)', 'logS', 'mr', 'mutagenic', 'nmol', 'opr_brigid', 'opr_leadlike', 'opr_nring', 'opr_nrot', 'opr_violation', 'PC+', 'PC-', 'PEOE_PC+', 'PEOE_PC-', 'PEOE_RPC+', 'PEOE_RPC-', 'PEOE_VSA+0', 'PEOE_VSA+1', 'PEOE_VSA+2', 'PEOE_VSA+3', 'PEOE_VSA+4', 'PEOE_VSA+5', 'PEOE_VSA+6', 'PEOE_VSA-0', 'PEOE_VSA-1', 'PEOE_VSA-2', 'PEOE_VSA-3', 'PEOE_VSA-4', 'PEOE_VSA-5', 'PEOE_VSA-6', 'PEOE_VSA_FHYD', 'PEOE_VSA_FNEG', 'PEOE_VSA_FPNEG', 'PEOE_VSA_FPOL', 'PEOE_VSA_FPOS', 'PEOE_VSA_FPPOS', 'PEOE_VSA_HYD', 'PEOE_VSA_NEG', 'PEOE_VSA_PNEG', 'PEOE_VSA_POL', 'PEOE_VSA_POS', 'PEOE_VSA_PPOS', 'petitjean', 'petitjeanSC', 'Q_PC+', 'Q_PC-', 'Q_RPC+', 'Q_RPC-', 'Q_VSA_FHYD', 'Q_VSA_FNEG', 'Q_VSA_FPNEG', 'Q_VSA_FPOL', 'Q_VSA_FPOS', 'Q_VSA_FPPOS', 'Q_VSA_HYD', 'Q_VSA_NEG', 'Q_VSA_PNEG', 'Q_VSA_POL', 'Q_VSA_POS', 'Q_VSA_PPOS', 'radius', 'reactive', 'rings', 'RPC+', 'RPC-', 'rsynth', 'SlogP', 'SlogP_VSA0', 'SlogP_VSA1', 'SlogP_VSA2', 'SlogP_VSA3', 'SlogP_VSA4', 'SlogP_VSA5', 'SlogP_VSA6', 'SlogP_VSA7', 'SlogP_VSA8', 'SlogP_VSA9', 'SMR', 'SMR_VSA0', 'SMR_VSA1', 'SMR_VSA2', 'SMR_VSA3', 'SMR_VSA4', 'SMR_VSA5', 'SMR_VSA6', 'SMR_VSA7', 'TPSA', 'VAdjEq', 'VAdjMa', 'VDistEq', 'VDistMa', 'vdw_area', 'vdw_vol', 'vsa_acc', 'vsa_acid', 'vsa_base', 'vsa_don', 'vsa_hyd', 'vsa_other', 'vsa_pol', 'Weight', 'weinerPath', 'weinerPol', 'zagreb']\n"
       ]
      }
     ],
     "prompt_number": 5
    },
    {
     "cell_type": "code",
     "collapsed": false,
     "input": [
      "# Isolate response variable\n",
      "ActivityScore = twoC9_train['ActivityScore']\n",
      "y_train = np.where(ActivityScore >= 40,1,0)\n",
      "\n",
      "ActivityScore2 = twoC9_test['ActivityScore']\n",
      "y_test = np.where(ActivityScore2 >= 40,1,0)"
     ],
     "language": "python",
     "metadata": {},
     "outputs": [],
     "prompt_number": 6
    },
    {
     "cell_type": "code",
     "collapsed": false,
     "input": [
      "# looks right sized\n",
      "y_train.shape, y_test.shape"
     ],
     "language": "python",
     "metadata": {},
     "outputs": [
      {
       "metadata": {},
       "output_type": "pyout",
       "prompt_number": 7,
       "text": [
        "((6593,), (1649,))"
       ]
      }
     ],
     "prompt_number": 7
    },
    {
     "cell_type": "code",
     "collapsed": false,
     "input": [
      "y_test"
     ],
     "language": "python",
     "metadata": {},
     "outputs": [
      {
       "metadata": {},
       "output_type": "pyout",
       "prompt_number": 8,
       "text": [
        "array([0, 1, 0, ..., 1, 1, 0])"
       ]
      }
     ],
     "prompt_number": 8
    },
    {
     "cell_type": "code",
     "collapsed": false,
     "input": [
      "# We don't need this column anymore\n",
      "to_drop = ['ActivityScore']\n",
      "inhib_feat_space = twoC9_train.drop(to_drop,axis=1)\n",
      "inhib_feat_space_test = twoC9_test.drop(to_drop,axis=1)"
     ],
     "language": "python",
     "metadata": {},
     "outputs": [],
     "prompt_number": 9
    },
    {
     "cell_type": "code",
     "collapsed": false,
     "input": [
      "# Pull out features for future use\n",
      "features = inhib_feat_space.columns\n",
      "features_test = inhib_feat_space_test.columns"
     ],
     "language": "python",
     "metadata": {},
     "outputs": [],
     "prompt_number": 10
    },
    {
     "cell_type": "code",
     "collapsed": false,
     "input": [
      "X_train = inhib_feat_space.as_matrix().astype(np.float)\n",
      "X_test = inhib_feat_space_test.as_matrix().astype(np.float)"
     ],
     "language": "python",
     "metadata": {},
     "outputs": [],
     "prompt_number": 11
    },
    {
     "cell_type": "code",
     "collapsed": false,
     "input": [
      "X_train.shape, X_test.shape"
     ],
     "language": "python",
     "metadata": {},
     "outputs": [
      {
       "metadata": {},
       "output_type": "pyout",
       "prompt_number": 12,
       "text": [
        "((6593, 186), (1649, 186))"
       ]
      }
     ],
     "prompt_number": 12
    },
    {
     "cell_type": "code",
     "collapsed": false,
     "input": [
      "n_pos1 = y_test.sum()\n",
      "n_pos1"
     ],
     "language": "python",
     "metadata": {},
     "outputs": [
      {
       "metadata": {},
       "output_type": "pyout",
       "prompt_number": 13,
       "text": [
        "855"
       ]
      }
     ],
     "prompt_number": 13
    },
    {
     "cell_type": "code",
     "collapsed": false,
     "input": [
      "n_pos2 = y_train.sum()\n",
      "n_pos2"
     ],
     "language": "python",
     "metadata": {},
     "outputs": [
      {
       "metadata": {},
       "output_type": "pyout",
       "prompt_number": 14,
       "text": [
        "3266"
       ]
      }
     ],
     "prompt_number": 14
    },
    {
     "cell_type": "code",
     "collapsed": false,
     "input": [
      "print('Feature space holds '+repr(X_train.shape[0])+' observations and '+repr(X_test.shape[1])+' features')\n",
      "print('Unique target labels: '+repr(np.unique(y_train)))\n",
      "\n",
      "print('Feature space holds '+repr(X_test.shape[0])+' observations and '+repr(X_test.shape[1])+' features')\n",
      "print('Unique target labels: '+repr(np.unique(y_test)))"
     ],
     "language": "python",
     "metadata": {},
     "outputs": [
      {
       "output_type": "stream",
       "stream": "stdout",
       "text": [
        "Feature space holds 6593 observations and 186 features\n",
        "Unique target labels: array([0, 1])\n",
        "Feature space holds 1649 observations and 186 features\n",
        "Unique target labels: array([0, 1])\n"
       ]
      }
     ],
     "prompt_number": 15
    },
    {
     "cell_type": "code",
     "collapsed": false,
     "input": [
      "X_test.shape[1]"
     ],
     "language": "python",
     "metadata": {},
     "outputs": [
      {
       "metadata": {},
       "output_type": "pyout",
       "prompt_number": 16,
       "text": [
        "186"
       ]
      }
     ],
     "prompt_number": 16
    },
    {
     "cell_type": "heading",
     "level": 2,
     "metadata": {},
     "source": [
      "Scale the features before training model"
     ]
    },
    {
     "cell_type": "code",
     "collapsed": false,
     "input": [
      "# This is important\n",
      "from sklearn.preprocessing import StandardScaler\n",
      "scaler = StandardScaler()\n",
      "X_train = scaler.fit_transform(X_train)\n",
      "X_test = scaler.fit_transform(X_test)"
     ],
     "language": "python",
     "metadata": {},
     "outputs": [],
     "prompt_number": 17
    },
    {
     "cell_type": "code",
     "collapsed": false,
     "input": [
      "from sklearn.cross_validation import KFold\n",
      "\n",
      "def run_cv(X,y,clf_class,**kwargs):\n",
      "    # Construct a kfolds object\n",
      "    kf = KFold(len(y),n_folds=5,shuffle=True)\n",
      "    y_pred = y.copy()\n",
      "    \n",
      "    # Iterate through folds\n",
      "    for train_index, test_index in kf:\n",
      "        X_train, X_test = X[train_index], X[test_index]\n",
      "        y_train = y[train_index]\n",
      "        # Initialize a classifier with key word arguments\n",
      "        clf = clf_class(**kwargs)\n",
      "        clf.fit(X_train,y_train)\n",
      "        y_pred[test_index] = clf.predict(X_test)\n",
      "    return y_pred"
     ],
     "language": "python",
     "metadata": {},
     "outputs": [],
     "prompt_number": 18
    },
    {
     "cell_type": "code",
     "collapsed": false,
     "input": [
      "from sklearn.svm import SVC\n",
      "from sklearn.ensemble import RandomForestClassifier as RF\n",
      "from sklearn.neighbors import KNeighborsClassifier as KNN\n",
      "\n",
      "def accuracy(y_true,y_pred):\n",
      "    # NumPy interpretes True and False as 1. and 0.\n",
      "    return np.mean(y_true == y_pred)\n",
      "\n",
      "print(\"K-nearest-neighbors (training set):\")\n",
      "print(\"%.3f\" % accuracy(y_train, run_cv(X_train,y_train,KNN)))\n",
      "print(\"K-nearest-neighbors (test set):\")\n",
      "print(\"%.3f\" % accuracy(y_test, run_cv(X_test,y_test,KNN)))\n",
      "print('Support vector machines (training set):')\n",
      "print(\"%.3f\" % accuracy(y_train, run_cv(X_train,y_train,SVC)))\n",
      "print('Support vector machines (test set):')\n",
      "print(\"%.3f\" % accuracy(y_test, run_cv(X_test,y_test,SVC)))\n",
      "print(\"Random forest (training set):\")\n",
      "print(\"%.3f\" % accuracy(y_train, run_cv(X_train,y_train,RF)))\n",
      "print(\"Random forest (test set):\")\n",
      "print(\"%.3f\" % accuracy(y_test, run_cv(X_test,y_test,RF)))\n"
     ],
     "language": "python",
     "metadata": {},
     "outputs": [
      {
       "output_type": "stream",
       "stream": "stdout",
       "text": [
        "K-nearest-neighbors (training set):\n",
        "0.721"
       ]
      },
      {
       "output_type": "stream",
       "stream": "stdout",
       "text": [
        "\n",
        "K-nearest-neighbors (test set):\n",
        "0.692"
       ]
      },
      {
       "output_type": "stream",
       "stream": "stderr",
       "text": [
        "/home/ubuntu/miniconda3/lib/python3.3/site-packages/sklearn/svm/base.py:233: DeprecationWarning: using a non-integer number instead of an integer will result in an error in the future\n",
        "  max_iter=self.max_iter, random_seed=random_seed)\n",
        "/home/ubuntu/miniconda3/lib/python3.3/site-packages/sklearn/svm/base.py:233: DeprecationWarning: using a non-integer number instead of an integer will result in an error in the future\n",
        "  max_iter=self.max_iter, random_seed=random_seed)\n"
       ]
      },
      {
       "output_type": "stream",
       "stream": "stderr",
       "text": [
        "/home/ubuntu/miniconda3/lib/python3.3/site-packages/sklearn/svm/base.py:233: DeprecationWarning: using a non-integer number instead of an integer will result in an error in the future\n",
        "  max_iter=self.max_iter, random_seed=random_seed)\n",
        "/home/ubuntu/miniconda3/lib/python3.3/site-packages/sklearn/svm/base.py:233: DeprecationWarning: using a non-integer number instead of an integer will result in an error in the future\n",
        "  max_iter=self.max_iter, random_seed=random_seed)\n"
       ]
      },
      {
       "output_type": "stream",
       "stream": "stdout",
       "text": [
        "\n",
        "Support vector machines (training set):\n",
        "0.749"
       ]
      },
      {
       "output_type": "stream",
       "stream": "stderr",
       "text": [
        "/home/ubuntu/miniconda3/lib/python3.3/site-packages/sklearn/svm/base.py:233: DeprecationWarning: using a non-integer number instead of an integer will result in an error in the future\n",
        "  max_iter=self.max_iter, random_seed=random_seed)\n",
        "/home/ubuntu/miniconda3/lib/python3.3/site-packages/sklearn/svm/base.py:233: DeprecationWarning: using a non-integer number instead of an integer will result in an error in the future\n",
        "  max_iter=self.max_iter, random_seed=random_seed)\n"
       ]
      },
      {
       "output_type": "stream",
       "stream": "stderr",
       "text": [
        "/home/ubuntu/miniconda3/lib/python3.3/site-packages/sklearn/svm/base.py:233: DeprecationWarning: using a non-integer number instead of an integer will result in an error in the future\n",
        "  max_iter=self.max_iter, random_seed=random_seed)\n",
        "/home/ubuntu/miniconda3/lib/python3.3/site-packages/sklearn/svm/base.py:233: DeprecationWarning: using a non-integer number instead of an integer will result in an error in the future\n",
        "  max_iter=self.max_iter, random_seed=random_seed)\n"
       ]
      },
      {
       "output_type": "stream",
       "stream": "stderr",
       "text": [
        "/home/ubuntu/miniconda3/lib/python3.3/site-packages/sklearn/svm/base.py:233: DeprecationWarning: using a non-integer number instead of an integer will result in an error in the future\n",
        "  max_iter=self.max_iter, random_seed=random_seed)\n",
        "/home/ubuntu/miniconda3/lib/python3.3/site-packages/sklearn/svm/base.py:233: DeprecationWarning: using a non-integer number instead of an integer will result in an error in the future\n",
        "  max_iter=self.max_iter, random_seed=random_seed)\n"
       ]
      },
      {
       "output_type": "stream",
       "stream": "stdout",
       "text": [
        "\n",
        "Support vector machines (test set):\n",
        "0.720"
       ]
      },
      {
       "output_type": "stream",
       "stream": "stdout",
       "text": [
        "\n",
        "Random forest (training set):\n",
        "0.717"
       ]
      },
      {
       "output_type": "stream",
       "stream": "stdout",
       "text": [
        "\n",
        "Random forest (test set):\n",
        "0.687"
       ]
      },
      {
       "output_type": "stream",
       "stream": "stdout",
       "text": [
        "\n"
       ]
      }
     ],
     "prompt_number": 19
    },
    {
     "cell_type": "code",
     "collapsed": false,
     "input": [
      "from sklearn.metrics import confusion_matrix\n",
      "\n",
      "y_train = np.array(y_train)\n",
      "class_names = np.unique(y_train)\n",
      "\n",
      "confusion_matrices_training = [\n",
      "    ( \"K-Nearest-Neighbors training\", confusion_matrix(y_train,run_cv(X_train,y_train,KNN)) ),\n",
      "    ( \"Support Vector Machines training\", confusion_matrix(y_train,run_cv(X_train,y_train,SVC)) ),\n",
      "    ( \"Random Forest taining\", confusion_matrix(y_train,run_cv(X_train,y_train,RF)) ),\n",
      "]\n",
      "\n",
      "y_test = np.array(y_test)\n",
      "class_names = np.unique(y_test)\n",
      "\n",
      "confusion_matrices_test = [\n",
      "    ( \"K-Nearest-Neighbors test\", confusion_matrix(y_test,run_cv(X_test,y_test,KNN)) ),\n",
      "    ( \"Support Vector Machines test\", confusion_matrix(y_test,run_cv(X_test,y_test,SVC)) ),\n",
      "    ( \"Random Forest test\", confusion_matrix(y_test,run_cv(X_test,y_test,RF)) ),\n",
      "]\n",
      "\n",
      "#draw_confusion_matrices(confusion_matrices,class_names)\n",
      "confusion_matrices_training, confusion_matrices_test"
     ],
     "language": "python",
     "metadata": {},
     "outputs": [
      {
       "output_type": "stream",
       "stream": "stderr",
       "text": [
        "/home/ubuntu/miniconda3/lib/python3.3/site-packages/sklearn/svm/base.py:233: DeprecationWarning: using a non-integer number instead of an integer will result in an error in the future\n",
        "  max_iter=self.max_iter, random_seed=random_seed)\n",
        "/home/ubuntu/miniconda3/lib/python3.3/site-packages/sklearn/svm/base.py:233: DeprecationWarning: using a non-integer number instead of an integer will result in an error in the future\n",
        "  max_iter=self.max_iter, random_seed=random_seed)\n"
       ]
      },
      {
       "output_type": "stream",
       "stream": "stderr",
       "text": [
        "/home/ubuntu/miniconda3/lib/python3.3/site-packages/sklearn/svm/base.py:233: DeprecationWarning: using a non-integer number instead of an integer will result in an error in the future\n",
        "  max_iter=self.max_iter, random_seed=random_seed)\n",
        "/home/ubuntu/miniconda3/lib/python3.3/site-packages/sklearn/svm/base.py:233: DeprecationWarning: using a non-integer number instead of an integer will result in an error in the future\n",
        "  max_iter=self.max_iter, random_seed=random_seed)\n"
       ]
      },
      {
       "output_type": "stream",
       "stream": "stderr",
       "text": [
        "/home/ubuntu/miniconda3/lib/python3.3/site-packages/sklearn/svm/base.py:233: DeprecationWarning: using a non-integer number instead of an integer will result in an error in the future\n",
        "  max_iter=self.max_iter, random_seed=random_seed)\n",
        "/home/ubuntu/miniconda3/lib/python3.3/site-packages/sklearn/svm/base.py:233: DeprecationWarning: using a non-integer number instead of an integer will result in an error in the future\n",
        "  max_iter=self.max_iter, random_seed=random_seed)\n"
       ]
      },
      {
       "output_type": "stream",
       "stream": "stderr",
       "text": [
        "/home/ubuntu/miniconda3/lib/python3.3/site-packages/sklearn/svm/base.py:233: DeprecationWarning: using a non-integer number instead of an integer will result in an error in the future\n",
        "  max_iter=self.max_iter, random_seed=random_seed)\n",
        "/home/ubuntu/miniconda3/lib/python3.3/site-packages/sklearn/svm/base.py:233: DeprecationWarning: using a non-integer number instead of an integer will result in an error in the future\n",
        "  max_iter=self.max_iter, random_seed=random_seed)\n"
       ]
      },
      {
       "output_type": "stream",
       "stream": "stderr",
       "text": [
        "/home/ubuntu/miniconda3/lib/python3.3/site-packages/sklearn/svm/base.py:233: DeprecationWarning: using a non-integer number instead of an integer will result in an error in the future\n",
        "  max_iter=self.max_iter, random_seed=random_seed)\n",
        "/home/ubuntu/miniconda3/lib/python3.3/site-packages/sklearn/svm/base.py:233: DeprecationWarning: using a non-integer number instead of an integer will result in an error in the future\n",
        "  max_iter=self.max_iter, random_seed=random_seed)\n"
       ]
      },
      {
       "metadata": {},
       "output_type": "pyout",
       "prompt_number": 20,
       "text": [
        "([('K-Nearest-Neighbors training', array([[2353,  974],\n",
        "          [ 846, 2420]])),\n",
        "  ('Support Vector Machines training', array([[2351,  976],\n",
        "          [ 667, 2599]])),\n",
        "  ('Random Forest taining', array([[2513,  814],\n",
        "          [1038, 2228]]))],\n",
        " [('K-Nearest-Neighbors test', array([[528, 266],\n",
        "          [243, 612]])), ('Support Vector Machines test', array([[506, 288],\n",
        "          [167, 688]])), ('Random Forest test', array([[584, 210],\n",
        "          [285, 570]]))])"
       ]
      }
     ],
     "prompt_number": 20
    },
    {
     "cell_type": "code",
     "collapsed": false,
     "input": [],
     "language": "python",
     "metadata": {},
     "outputs": []
    },
    {
     "cell_type": "code",
     "collapsed": false,
     "input": [],
     "language": "python",
     "metadata": {},
     "outputs": []
    },
    {
     "cell_type": "code",
     "collapsed": false,
     "input": [
      "def run_prob_cv(X, y, clf_class, **kwargs):\n",
      "    kf = KFold(len(y), n_folds=5, shuffle=True)\n",
      "    y_prob = np.zeros((len(y),2))\n",
      "    for train_index, test_index in kf:\n",
      "        X_train, X_test = X[train_index], X[test_index]\n",
      "        y_train = y[train_index]\n",
      "        clf = clf_class(**kwargs)\n",
      "        clf.fit(X_train,y_train)\n",
      "        # Predict probabilities, not classes\n",
      "        y_prob[test_index] = clf.predict_proba(X_test)\n",
      "    return y_prob"
     ],
     "language": "python",
     "metadata": {},
     "outputs": [],
     "prompt_number": 21
    },
    {
     "cell_type": "code",
     "collapsed": false,
     "input": [
      "import warnings\n",
      "warnings.filterwarnings('ignore')\n",
      "\n",
      "# Use 10 estimators so predictions are all multiples of 0.1\n",
      "pred_prob = run_prob_cv(X_train, y_train, RF, n_estimators=10)\n",
      "pred_churn = pred_prob[:,1]\n",
      "is_churn = y_train == 1\n",
      "\n",
      "# Number of times a predicted probability is assigned to an observation\n",
      "counts = pd.value_counts(pred_churn)\n",
      "\n",
      "# calculate true probabilities\n",
      "true_prob = {}\n",
      "for prob in counts.index:\n",
      "    true_prob[prob] = np.mean(is_churn[pred_churn == prob])\n",
      "    true_prob = pd.Series(true_prob)\n",
      "\n",
      "# pandas-fu\n",
      "counts = pd.concat([counts,true_prob], axis=1).reset_index()\n",
      "counts.columns = ['pred_prob', 'count', 'true_prob']\n",
      "counts"
     ],
     "language": "python",
     "metadata": {},
     "outputs": [
      {
       "html": [
        "<div style=\"max-height:1000px;max-width:1500px;overflow:auto;\">\n",
        "<table border=\"1\" class=\"dataframe\">\n",
        "  <thead>\n",
        "    <tr style=\"text-align: right;\">\n",
        "      <th></th>\n",
        "      <th>pred_prob</th>\n",
        "      <th>count</th>\n",
        "      <th>true_prob</th>\n",
        "    </tr>\n",
        "  </thead>\n",
        "  <tbody>\n",
        "    <tr>\n",
        "      <th>0 </th>\n",
        "      <td> 0.700000</td>\n",
        "      <td> 739</td>\n",
        "      <td> 0.719892</td>\n",
        "    </tr>\n",
        "    <tr>\n",
        "      <th>1 </th>\n",
        "      <td> 0.800000</td>\n",
        "      <td> 696</td>\n",
        "      <td> 0.757184</td>\n",
        "    </tr>\n",
        "    <tr>\n",
        "      <th>2 </th>\n",
        "      <td> 0.600000</td>\n",
        "      <td> 679</td>\n",
        "      <td> 0.615611</td>\n",
        "    </tr>\n",
        "    <tr>\n",
        "      <th>3 </th>\n",
        "      <td> 0.500000</td>\n",
        "      <td> 656</td>\n",
        "      <td> 0.535061</td>\n",
        "    </tr>\n",
        "    <tr>\n",
        "      <th>4 </th>\n",
        "      <td> 0.400000</td>\n",
        "      <td> 621</td>\n",
        "      <td> 0.402576</td>\n",
        "    </tr>\n",
        "    <tr>\n",
        "      <th>5 </th>\n",
        "      <td> 0.100000</td>\n",
        "      <td> 595</td>\n",
        "      <td> 0.136134</td>\n",
        "    </tr>\n",
        "    <tr>\n",
        "      <th>6 </th>\n",
        "      <td> 0.200000</td>\n",
        "      <td> 587</td>\n",
        "      <td> 0.204429</td>\n",
        "    </tr>\n",
        "    <tr>\n",
        "      <th>7 </th>\n",
        "      <td> 0.300000</td>\n",
        "      <td> 552</td>\n",
        "      <td> 0.331522</td>\n",
        "    </tr>\n",
        "    <tr>\n",
        "      <th>8 </th>\n",
        "      <td> 0.900000</td>\n",
        "      <td> 533</td>\n",
        "      <td> 0.803002</td>\n",
        "    </tr>\n",
        "    <tr>\n",
        "      <th>9 </th>\n",
        "      <td> 0.000000</td>\n",
        "      <td> 481</td>\n",
        "      <td> 0.089397</td>\n",
        "    </tr>\n",
        "    <tr>\n",
        "      <th>10</th>\n",
        "      <td> 1.000000</td>\n",
        "      <td> 317</td>\n",
        "      <td> 0.902208</td>\n",
        "    </tr>\n",
        "    <tr>\n",
        "      <th>11</th>\n",
        "      <td> 0.450000</td>\n",
        "      <td>   8</td>\n",
        "      <td> 0.250000</td>\n",
        "    </tr>\n",
        "    <tr>\n",
        "      <th>12</th>\n",
        "      <td> 0.350000</td>\n",
        "      <td>   7</td>\n",
        "      <td> 0.285714</td>\n",
        "    </tr>\n",
        "    <tr>\n",
        "      <th>13</th>\n",
        "      <td> 0.150000</td>\n",
        "      <td>   7</td>\n",
        "      <td> 0.000000</td>\n",
        "    </tr>\n",
        "    <tr>\n",
        "      <th>14</th>\n",
        "      <td> 0.266667</td>\n",
        "      <td>   6</td>\n",
        "      <td> 0.166667</td>\n",
        "    </tr>\n",
        "    <tr>\n",
        "      <th>15</th>\n",
        "      <td> 0.133333</td>\n",
        "      <td>   6</td>\n",
        "      <td> 0.000000</td>\n",
        "    </tr>\n",
        "    <tr>\n",
        "      <th>16</th>\n",
        "      <td> 0.325000</td>\n",
        "      <td>   5</td>\n",
        "      <td> 0.200000</td>\n",
        "    </tr>\n",
        "    <tr>\n",
        "      <th>17</th>\n",
        "      <td> 0.033333</td>\n",
        "      <td>   5</td>\n",
        "      <td> 0.000000</td>\n",
        "    </tr>\n",
        "    <tr>\n",
        "      <th>18</th>\n",
        "      <td> 0.166667</td>\n",
        "      <td>   5</td>\n",
        "      <td> 0.200000</td>\n",
        "    </tr>\n",
        "    <tr>\n",
        "      <th>19</th>\n",
        "      <td> 0.750000</td>\n",
        "      <td>   5</td>\n",
        "      <td> 0.800000</td>\n",
        "    </tr>\n",
        "    <tr>\n",
        "      <th>20</th>\n",
        "      <td> 0.561538</td>\n",
        "      <td>   4</td>\n",
        "      <td> 1.000000</td>\n",
        "    </tr>\n",
        "    <tr>\n",
        "      <th>21</th>\n",
        "      <td> 0.550000</td>\n",
        "      <td>   4</td>\n",
        "      <td> 0.250000</td>\n",
        "    </tr>\n",
        "    <tr>\n",
        "      <th>22</th>\n",
        "      <td> 0.702570</td>\n",
        "      <td>   3</td>\n",
        "      <td> 0.666667</td>\n",
        "    </tr>\n",
        "    <tr>\n",
        "      <th>23</th>\n",
        "      <td> 0.766667</td>\n",
        "      <td>   3</td>\n",
        "      <td> 0.666667</td>\n",
        "    </tr>\n",
        "    <tr>\n",
        "      <th>24</th>\n",
        "      <td> 0.250000</td>\n",
        "      <td>   3</td>\n",
        "      <td> 0.333333</td>\n",
        "    </tr>\n",
        "    <tr>\n",
        "      <th>25</th>\n",
        "      <td> 0.533333</td>\n",
        "      <td>   3</td>\n",
        "      <td> 0.666667</td>\n",
        "    </tr>\n",
        "    <tr>\n",
        "      <th>26</th>\n",
        "      <td> 0.233333</td>\n",
        "      <td>   3</td>\n",
        "      <td> 0.000000</td>\n",
        "    </tr>\n",
        "    <tr>\n",
        "      <th>27</th>\n",
        "      <td> 0.566667</td>\n",
        "      <td>   3</td>\n",
        "      <td> 0.333333</td>\n",
        "    </tr>\n",
        "    <tr>\n",
        "      <th>28</th>\n",
        "      <td> 0.633333</td>\n",
        "      <td>   2</td>\n",
        "      <td> 0.500000</td>\n",
        "    </tr>\n",
        "    <tr>\n",
        "      <th>29</th>\n",
        "      <td> 0.050000</td>\n",
        "      <td>   2</td>\n",
        "      <td> 0.000000</td>\n",
        "    </tr>\n",
        "    <tr>\n",
        "      <th>...</th>\n",
        "      <td>...</td>\n",
        "      <td>...</td>\n",
        "      <td>...</td>\n",
        "    </tr>\n",
        "    <tr>\n",
        "      <th>46</th>\n",
        "      <td> 0.833333</td>\n",
        "      <td>   1</td>\n",
        "      <td> 1.000000</td>\n",
        "    </tr>\n",
        "    <tr>\n",
        "      <th>47</th>\n",
        "      <td> 0.333333</td>\n",
        "      <td>   1</td>\n",
        "      <td> 0.000000</td>\n",
        "    </tr>\n",
        "    <tr>\n",
        "      <th>48</th>\n",
        "      <td> 0.216667</td>\n",
        "      <td>   1</td>\n",
        "      <td> 0.000000</td>\n",
        "    </tr>\n",
        "    <tr>\n",
        "      <th>49</th>\n",
        "      <td> 0.160000</td>\n",
        "      <td>   1</td>\n",
        "      <td> 0.000000</td>\n",
        "    </tr>\n",
        "    <tr>\n",
        "      <th>50</th>\n",
        "      <td> 0.125000</td>\n",
        "      <td>   1</td>\n",
        "      <td> 0.000000</td>\n",
        "    </tr>\n",
        "    <tr>\n",
        "      <th>51</th>\n",
        "      <td> 0.875000</td>\n",
        "      <td>   1</td>\n",
        "      <td> 1.000000</td>\n",
        "    </tr>\n",
        "    <tr>\n",
        "      <th>52</th>\n",
        "      <td> 0.080000</td>\n",
        "      <td>   1</td>\n",
        "      <td> 0.000000</td>\n",
        "    </tr>\n",
        "    <tr>\n",
        "      <th>53</th>\n",
        "      <td> 0.687500</td>\n",
        "      <td>   1</td>\n",
        "      <td> 0.000000</td>\n",
        "    </tr>\n",
        "    <tr>\n",
        "      <th>54</th>\n",
        "      <td> 0.440000</td>\n",
        "      <td>   1</td>\n",
        "      <td> 1.000000</td>\n",
        "    </tr>\n",
        "    <tr>\n",
        "      <th>55</th>\n",
        "      <td> 0.671429</td>\n",
        "      <td>   1</td>\n",
        "      <td> 1.000000</td>\n",
        "    </tr>\n",
        "    <tr>\n",
        "      <th>56</th>\n",
        "      <td> 0.866667</td>\n",
        "      <td>   1</td>\n",
        "      <td> 1.000000</td>\n",
        "    </tr>\n",
        "    <tr>\n",
        "      <th>57</th>\n",
        "      <td> 0.300833</td>\n",
        "      <td>   1</td>\n",
        "      <td> 0.000000</td>\n",
        "    </tr>\n",
        "    <tr>\n",
        "      <th>58</th>\n",
        "      <td> 0.766667</td>\n",
        "      <td>   1</td>\n",
        "      <td> 0.000000</td>\n",
        "    </tr>\n",
        "    <tr>\n",
        "      <th>59</th>\n",
        "      <td> 0.614286</td>\n",
        "      <td>   1</td>\n",
        "      <td> 1.000000</td>\n",
        "    </tr>\n",
        "    <tr>\n",
        "      <th>60</th>\n",
        "      <td> 0.075000</td>\n",
        "      <td>   1</td>\n",
        "      <td> 0.000000</td>\n",
        "    </tr>\n",
        "    <tr>\n",
        "      <th>61</th>\n",
        "      <td> 0.420000</td>\n",
        "      <td>   1</td>\n",
        "      <td> 0.000000</td>\n",
        "    </tr>\n",
        "    <tr>\n",
        "      <th>62</th>\n",
        "      <td> 0.233333</td>\n",
        "      <td>   1</td>\n",
        "      <td> 0.000000</td>\n",
        "    </tr>\n",
        "    <tr>\n",
        "      <th>63</th>\n",
        "      <td> 0.320000</td>\n",
        "      <td>   1</td>\n",
        "      <td> 1.000000</td>\n",
        "    </tr>\n",
        "    <tr>\n",
        "      <th>64</th>\n",
        "      <td> 0.840000</td>\n",
        "      <td>   1</td>\n",
        "      <td> 1.000000</td>\n",
        "    </tr>\n",
        "    <tr>\n",
        "      <th>65</th>\n",
        "      <td> 0.270000</td>\n",
        "      <td>   1</td>\n",
        "      <td> 0.000000</td>\n",
        "    </tr>\n",
        "    <tr>\n",
        "      <th>66</th>\n",
        "      <td> 0.216667</td>\n",
        "      <td>   1</td>\n",
        "      <td> 0.000000</td>\n",
        "    </tr>\n",
        "    <tr>\n",
        "      <th>67</th>\n",
        "      <td> 0.558333</td>\n",
        "      <td>   1</td>\n",
        "      <td> 1.000000</td>\n",
        "    </tr>\n",
        "    <tr>\n",
        "      <th>68</th>\n",
        "      <td> 0.387500</td>\n",
        "      <td>   1</td>\n",
        "      <td> 1.000000</td>\n",
        "    </tr>\n",
        "    <tr>\n",
        "      <th>69</th>\n",
        "      <td> 0.028571</td>\n",
        "      <td>   1</td>\n",
        "      <td> 0.000000</td>\n",
        "    </tr>\n",
        "    <tr>\n",
        "      <th>70</th>\n",
        "      <td> 0.025000</td>\n",
        "      <td>   1</td>\n",
        "      <td> 0.000000</td>\n",
        "    </tr>\n",
        "    <tr>\n",
        "      <th>71</th>\n",
        "      <td> 0.385000</td>\n",
        "      <td>   1</td>\n",
        "      <td> 0.000000</td>\n",
        "    </tr>\n",
        "    <tr>\n",
        "      <th>72</th>\n",
        "      <td> 0.620000</td>\n",
        "      <td>   1</td>\n",
        "      <td> 1.000000</td>\n",
        "    </tr>\n",
        "    <tr>\n",
        "      <th>73</th>\n",
        "      <td> 0.083333</td>\n",
        "      <td>   1</td>\n",
        "      <td> 0.000000</td>\n",
        "    </tr>\n",
        "    <tr>\n",
        "      <th>74</th>\n",
        "      <td> 0.487500</td>\n",
        "      <td>   1</td>\n",
        "      <td> 0.000000</td>\n",
        "    </tr>\n",
        "    <tr>\n",
        "      <th>75</th>\n",
        "      <td> 0.925000</td>\n",
        "      <td>   1</td>\n",
        "      <td> 1.000000</td>\n",
        "    </tr>\n",
        "  </tbody>\n",
        "</table>\n",
        "<p>76 rows \u00d7 3 columns</p>\n",
        "</div>"
       ],
       "metadata": {},
       "output_type": "pyout",
       "prompt_number": 22,
       "text": [
        "    pred_prob  count  true_prob\n",
        "0    0.700000    739   0.719892\n",
        "1    0.800000    696   0.757184\n",
        "2    0.600000    679   0.615611\n",
        "3    0.500000    656   0.535061\n",
        "4    0.400000    621   0.402576\n",
        "5    0.100000    595   0.136134\n",
        "6    0.200000    587   0.204429\n",
        "7    0.300000    552   0.331522\n",
        "8    0.900000    533   0.803002\n",
        "9    0.000000    481   0.089397\n",
        "10   1.000000    317   0.902208\n",
        "11   0.450000      8   0.250000\n",
        "12   0.350000      7   0.285714\n",
        "13   0.150000      7   0.000000\n",
        "14   0.266667      6   0.166667\n",
        "15   0.133333      6   0.000000\n",
        "16   0.325000      5   0.200000\n",
        "17   0.033333      5   0.000000\n",
        "18   0.166667      5   0.200000\n",
        "19   0.750000      5   0.800000\n",
        "20   0.561538      4   1.000000\n",
        "21   0.550000      4   0.250000\n",
        "22   0.702570      3   0.666667\n",
        "23   0.766667      3   0.666667\n",
        "24   0.250000      3   0.333333\n",
        "25   0.533333      3   0.666667\n",
        "26   0.233333      3   0.000000\n",
        "27   0.566667      3   0.333333\n",
        "28   0.633333      2   0.500000\n",
        "29   0.050000      2   0.000000\n",
        "..        ...    ...        ...\n",
        "46   0.833333      1   1.000000\n",
        "47   0.333333      1   0.000000\n",
        "48   0.216667      1   0.000000\n",
        "49   0.160000      1   0.000000\n",
        "50   0.125000      1   0.000000\n",
        "51   0.875000      1   1.000000\n",
        "52   0.080000      1   0.000000\n",
        "53   0.687500      1   0.000000\n",
        "54   0.440000      1   1.000000\n",
        "55   0.671429      1   1.000000\n",
        "56   0.866667      1   1.000000\n",
        "57   0.300833      1   0.000000\n",
        "58   0.766667      1   0.000000\n",
        "59   0.614286      1   1.000000\n",
        "60   0.075000      1   0.000000\n",
        "61   0.420000      1   0.000000\n",
        "62   0.233333      1   0.000000\n",
        "63   0.320000      1   1.000000\n",
        "64   0.840000      1   1.000000\n",
        "65   0.270000      1   0.000000\n",
        "66   0.216667      1   0.000000\n",
        "67   0.558333      1   1.000000\n",
        "68   0.387500      1   1.000000\n",
        "69   0.028571      1   0.000000\n",
        "70   0.025000      1   0.000000\n",
        "71   0.385000      1   0.000000\n",
        "72   0.620000      1   1.000000\n",
        "73   0.083333      1   0.000000\n",
        "74   0.487500      1   0.000000\n",
        "75   0.925000      1   1.000000\n",
        "\n",
        "[76 rows x 3 columns]"
       ]
      }
     ],
     "prompt_number": 22
    },
    {
     "cell_type": "code",
     "collapsed": false,
     "input": [
      "from ggplot import *\n",
      "%matplotlib inline\n",
      "\n",
      "baseline = np.mean(is_churn)\n",
      "ggplot(counts,aes(x='pred_prob',y='true_prob',size='count')) + \\\n",
      "    geom_point(color='blue') + \\\n",
      "    stat_function(fun = lambda x: x, color='red') + \\\n",
      "    stat_function(fun = lambda x: baseline, color='green') + \\\n",
      "    xlim(-0.05,  1.05) + ylim(-0.05,1.05) + \\\n",
      "    ggtitle(\"Classificatio by Random Forests\") + \\\n",
      "    xlab(\"Predicted probability\") + ylab(\"Relative frequency of outcome\")"
     ],
     "language": "python",
     "metadata": {},
     "outputs": [
      {
       "metadata": {},
       "output_type": "display_data",
       "png": "[encoded data removed]",
       "text": [
        "<matplotlib.figure.Figure at 0x7f1e1ee4d810>"
       ]
      },
      {
       "metadata": {},
       "output_type": "pyout",
       "prompt_number": 23,
       "text": [
        "<ggplot: (8735455524053)>"
       ]
      }
     ],
     "prompt_number": 23
    },
    {
     "cell_type": "code",
     "collapsed": false,
     "input": [
      "from sklearn.metrics import roc_auc_score"
     ],
     "language": "python",
     "metadata": {},
     "outputs": [],
     "prompt_number": 24
    },
    {
     "cell_type": "code",
     "collapsed": false,
     "input": [
      "roc_auc_score(is_churn, pred_churn)"
     ],
     "language": "python",
     "metadata": {},
     "outputs": [
      {
       "metadata": {},
       "output_type": "pyout",
       "prompt_number": 25,
       "text": [
        "0.79312145924777"
       ]
      }
     ],
     "prompt_number": 25
    },
    {
     "cell_type": "code",
     "collapsed": false,
     "input": [
      "pred_prob"
     ],
     "language": "python",
     "metadata": {},
     "outputs": [
      {
       "metadata": {},
       "output_type": "pyout",
       "prompt_number": 26,
       "text": [
        "array([[ 0.3,  0.7],\n",
        "       [ 0.2,  0.8],\n",
        "       [ 0.1,  0.9],\n",
        "       ..., \n",
        "       [ 0.2,  0.8],\n",
        "       [ 0.3,  0.7],\n",
        "       [ 0.9,  0.1]])"
       ]
      }
     ],
     "prompt_number": 26
    },
    {
     "cell_type": "code",
     "collapsed": false,
     "input": [],
     "language": "python",
     "metadata": {},
     "outputs": []
    }
   ],
   "metadata": {}
  }
 ]
}