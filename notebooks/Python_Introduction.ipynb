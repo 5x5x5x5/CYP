{
 "metadata": {
  "name": ""
 },
 "nbformat": 3,
 "nbformat_minor": 0,
 "worksheets": [
  {
   "cells": [
    {
     "cell_type": "heading",
     "level": 1,
     "metadata": {
      "slideshow": {
       "slide_type": "slide"
      }
     },
     "source": [
      "Python Introduction"
     ]
    },
    {
     "cell_type": "heading",
     "level": 2,
     "metadata": {
      "slideshow": {
       "slide_type": "slide"
      }
     },
     "source": [
      "Why Python?"
     ]
    },
    {
     "cell_type": "markdown",
     "metadata": {
      "slideshow": {
       "slide_type": "fragment"
      }
     },
     "source": [
      "###Interpreted, readable (usually clearer than Perl), interactive, many libraries,runs on many platforms\n",
      "\n",
      "###With Python one can construct numerical programs"
     ]
    },
    {
     "cell_type": "heading",
     "level": 2,
     "metadata": {
      "slideshow": {
       "slide_type": "slide"
      }
     },
     "source": [
      "Python Programming"
     ]
    },
    {
     "cell_type": "markdown",
     "metadata": {
      "slideshow": {
       "slide_type": "-"
      }
     },
     "source": [
      "* Datatypes \n",
      "* sequences\n",
      "* control structures \n",
      "* functions \n",
      "* object-orientation\n",
      "* File processing \n",
      "* Exception "
     ]
    },
    {
     "cell_type": "markdown",
     "metadata": {
      "slideshow": {
       "slide_type": "slide"
      }
     },
     "source": [
      "#Coding Style:\n",
      "\n",
      "+ Refer to pep-0008\n",
      "+ http://www.python.org/dev/peps/pep-0008/"
     ]
    },
    {
     "cell_type": "markdown",
     "metadata": {
      "slideshow": {
       "slide_type": "slide"
      }
     },
     "source": [
      "#Course Material\n",
      "\n",
      "git clone https://github.com/c3h3/NCCU-PyData-Courses-2013Spring.git\n"
     ]
    },
    {
     "cell_type": "markdown",
     "metadata": {
      "slideshow": {
       "slide_type": "slide"
      }
     },
     "source": [
      "#Ipython Notebook\n",
      "###Open Command Line:\n",
      "    > ipython notebook\n",
      "\n",
      "###Open Browser And Input:\n",
      "    127.0.0.1:8888"
     ]
    },
    {
     "cell_type": "heading",
     "level": 3,
     "metadata": {
      "slideshow": {
       "slide_type": "slide"
      }
     },
     "source": [
      "Interactive Programming"
     ]
    },
    {
     "cell_type": "code",
     "collapsed": false,
     "input": [
      "# Numeric Operation Through Interactive Scripting\n",
      "# Using # as Comment Mark\n",
      "1 + 1 "
     ],
     "language": "python",
     "metadata": {
      "slideshow": {
       "slide_type": "slide"
      }
     },
     "outputs": [
      {
       "metadata": {},
       "output_type": "pyout",
       "prompt_number": 9,
       "text": [
        "2"
       ]
      }
     ],
     "prompt_number": 9
    },
    {
     "cell_type": "code",
     "collapsed": false,
     "input": [
      "#Value Assignment and Print Out Result\n",
      "a = 1+2\n",
      "print a"
     ],
     "language": "python",
     "metadata": {
      "slideshow": {
       "slide_type": "slide"
      }
     },
     "outputs": [
      {
       "output_type": "stream",
       "stream": "stdout",
       "text": [
        "3\n"
       ]
      }
     ],
     "prompt_number": 16
    },
    {
     "cell_type": "code",
     "collapsed": false,
     "input": [
      "# Concat String and Integer Outputs Error\n",
      "a = 1+\"hello\"\n",
      "print a"
     ],
     "language": "python",
     "metadata": {
      "slideshow": {
       "slide_type": "slide"
      }
     },
     "outputs": [
      {
       "ename": "TypeError",
       "evalue": "unsupported operand type(s) for +: 'int' and 'str'",
       "output_type": "pyerr",
       "traceback": [
        "\u001b[1;31m---------------------------------------------------------------------------\u001b[0m\n\u001b[1;31mTypeError\u001b[0m                                 Traceback (most recent call last)",
        "\u001b[1;32m<ipython-input-15-b8c992fa3dbd>\u001b[0m in \u001b[0;36m<module>\u001b[1;34m()\u001b[0m\n\u001b[1;32m----> 1\u001b[1;33m \u001b[0ma\u001b[0m \u001b[1;33m=\u001b[0m \u001b[1;36m1\u001b[0m\u001b[1;33m+\u001b[0m\u001b[1;34m\"hello\"\u001b[0m\u001b[1;33m\u001b[0m\u001b[0m\n\u001b[0m\u001b[0;32m      2\u001b[0m \u001b[1;32mprint\u001b[0m \u001b[0ma\u001b[0m\u001b[1;33m\u001b[0m\u001b[0m\n",
        "\u001b[1;31mTypeError\u001b[0m: unsupported operand type(s) for +: 'int' and 'str'"
       ]
      }
     ],
     "prompt_number": 15
    },
    {
     "cell_type": "heading",
     "level": 3,
     "metadata": {
      "slideshow": {
       "slide_type": "slide"
      }
     },
     "source": [
      "Function"
     ]
    },
    {
     "cell_type": "code",
     "collapsed": false,
     "input": [
      "def addNum(a, b):#Define Function\n",
      "    return a+b #Return function \n",
      "\n",
      "print addNum(1,4)\n"
     ],
     "language": "python",
     "metadata": {
      "slideshow": {
       "slide_type": "slide"
      }
     },
     "outputs": [
      {
       "output_type": "stream",
       "stream": "stdout",
       "text": [
        "5\n"
       ]
      }
     ],
     "prompt_number": 18
    },
    {
     "cell_type": "code",
     "collapsed": false,
     "input": [
      "import math, sys # Importing modules.\n",
      "\n",
      "def formatresult(res): # Define function. Remember colon\n",
      "    \"\"\"This is the documentation for a function.\"\"\"\n",
      "    return \"The result is %f\" % res # Percentage for formating\n",
      "\n",
      "if len(sys.argv) < 3: # Conditionals should be indended\n",
      "    print(\"Too few input argument\")\n",
      "elif len(sys.argv) > 10: # Not 'elsif' or 'elseif'\n",
      "    print(\"Too many input argument\")\n",
      "else:\n",
      "    res = 0; # Semicolon not necessary. Considered bad style\n",
      "    for n in range(1, len(sys.argv)): # Not first element in loop\n",
      "        try: res += float(sys.argv[n]) # One-liner: no identation\n",
      "        except: pass # One-liner\n",
      "    print(formatresult(res))"
     ],
     "language": "python",
     "metadata": {
      "slideshow": {
       "slide_type": "slide"
      }
     },
     "outputs": [
      {
       "output_type": "stream",
       "stream": "stdout",
       "text": [
        "The result is 0.000000\n"
       ]
      }
     ],
     "prompt_number": 22
    },
    {
     "cell_type": "code",
     "collapsed": false,
     "input": [
      "import math #Importing Modules\n",
      "print math #Print Content\n",
      "\n",
      "import sys #Importing Modules\n",
      "print(sys.argv) #Print Argument\n",
      "\n",
      "print range(1,len(sys.argv))"
     ],
     "language": "python",
     "metadata": {
      "slideshow": {
       "slide_type": "slide"
      }
     },
     "outputs": [
      {
       "output_type": "stream",
       "stream": "stdout",
       "text": [
        "<module 'math' (built-in)>\n",
        "['-c', '-f', 'C:\\\\Users\\\\david\\\\.ipython\\\\profile_default\\\\security\\\\kernel-06354f75-b837-4fb3-9c65-6a2184f8438f.json', \"--IPKernelApp.parent_appname='ipython-notebook'\", '--interrupt=976', '--parent=948']\n",
        "[1, 2, 3, 4, 5]\n"
       ]
      }
     ],
     "prompt_number": 30
    },
    {
     "cell_type": "code",
     "collapsed": false,
     "input": [
      "#None: Evaluator\n",
      "None==None, None==False, not(None)    "
     ],
     "language": "python",
     "metadata": {
      "slideshow": {
       "slide_type": "slide"
      }
     },
     "outputs": [
      {
       "metadata": {},
       "output_type": "pyout",
       "prompt_number": 3,
       "text": [
        "(True, False, True)"
       ]
      }
     ],
     "prompt_number": 3
    },
    {
     "cell_type": "code",
     "collapsed": false,
     "input": [
      "#Boolean (from Python 2.2.1): All true: \n",
      "True, False==False, bool(42),not(42==True), (True or False) and not(False), True==1,not(1.000001 == 1), 1.00000000000000000000000001 == 1"
     ],
     "language": "python",
     "metadata": {
      "slideshow": {
       "slide_type": "slide"
      }
     },
     "outputs": [
      {
       "metadata": {},
       "output_type": "pyout",
       "prompt_number": 4,
       "text": [
        "(True, True, True, True, True, True, True, True)"
       ]
      }
     ],
     "prompt_number": 4
    },
    {
     "cell_type": "code",
     "collapsed": false,
     "input": [
      "#Integer: \n",
      "32, int('42'), 1/3, int(True), int(3.14)"
     ],
     "language": "python",
     "metadata": {
      "slideshow": {
       "slide_type": "slide"
      }
     },
     "outputs": [
      {
       "metadata": {},
       "output_type": "pyout",
       "prompt_number": 5,
       "text": [
        "(32, 42, 0, 1, 3)"
       ]
      }
     ],
     "prompt_number": 5
    },
    {
     "cell_type": "code",
     "collapsed": false,
     "input": [
      "#Long: \n",
      "1231980985476123891320918203981230123, long(1), 5L "
     ],
     "language": "python",
     "metadata": {
      "slideshow": {
       "slide_type": "slide"
      }
     },
     "outputs": [
      {
       "metadata": {},
       "output_type": "pyout",
       "prompt_number": 6,
       "text": [
        "(1231980985476123891320918203981230123L, 1L, 5L)"
       ]
      }
     ],
     "prompt_number": 6
    },
    {
     "cell_type": "code",
     "collapsed": false,
     "input": [
      "#Float: \n",
      "4., 4.0, float(42), 1.0/3, complex(1j).real, complex(1j).imag,\n",
      "4.2e3, 4.2E+3, 3**-1, float('nan'), float('inf') \n"
     ],
     "language": "python",
     "metadata": {
      "slideshow": {
       "slide_type": "slide"
      }
     },
     "outputs": [
      {
       "metadata": {},
       "output_type": "pyout",
       "prompt_number": 7,
       "text": [
        "(4200.0, 4200.0, 0.3333333333333333, nan, inf)"
       ]
      }
     ],
     "prompt_number": 7
    },
    {
     "cell_type": "code",
     "collapsed": false,
     "input": [
      "#Complex: \n",
      "complex(3), complex(1j), complex('4+j'), complex(1,2), 1+1j"
     ],
     "language": "python",
     "metadata": {
      "slideshow": {
       "slide_type": "slide"
      }
     },
     "outputs": [
      {
       "metadata": {},
       "output_type": "pyout",
       "prompt_number": 8,
       "text": [
        "((3+0j), 1j, (4+1j), (1+2j), (1+1j))"
       ]
      }
     ],
     "prompt_number": 8
    },
    {
     "cell_type": "heading",
     "level": 3,
     "metadata": {
      "slideshow": {
       "slide_type": "slide"
      }
     },
     "source": [
      "Sequence"
     ]
    },
    {
     "cell_type": "code",
     "collapsed": false,
     "input": [
      "#String: \n",
      "'A string', \"Another\", '<a href=\"http://dtu.dk\">DTU</a>', str(32),\\\n",
      "str(True), \"Escape \\\" quotation\", 'Wo' + 'rd', 'Hm' + 'm'*10,\\\n",
      "'''A ' is not necessary''', \"\"\"Multiline string A newline\"\"\",\\\n",
      "'The results are %.02f and %d' % (3.14159, 5),repr(42), `42`, repr('42')"
     ],
     "language": "python",
     "metadata": {
      "slideshow": {
       "slide_type": "slide"
      }
     },
     "outputs": [
      {
       "metadata": {},
       "output_type": "pyout",
       "prompt_number": 12,
       "text": [
        "('A string',\n",
        " 'Another',\n",
        " '<a href=\"http://dtu.dk\">DTU</a>',\n",
        " '32',\n",
        " 'True',\n",
        " 'Escape \" quotation',\n",
        " 'Word',\n",
        " 'Hmmmmmmmmmmm',\n",
        " \"A ' is not necessary\",\n",
        " 'Multiline string A newline',\n",
        " 'The results are 3.14 and 5',\n",
        " '42',\n",
        " '42',\n",
        " \"'42'\")"
       ]
      }
     ],
     "prompt_number": 12
    },
    {
     "cell_type": "code",
     "collapsed": false,
     "input": [
      "#List: \n",
      "[1, 2, 3], ['asap', 3], ['w', 'o', 'r', 'd'], \\\n",
      "list(\"word\"), [['list'], ['of', 'lists']], list(('a', 1))\n",
      "\n"
     ],
     "language": "python",
     "metadata": {
      "slideshow": {
       "slide_type": "slide"
      }
     },
     "outputs": [
      {
       "metadata": {},
       "output_type": "pyout",
       "prompt_number": 76,
       "text": [
        "([1, 2, 3],\n",
        " ['asap', 3],\n",
        " ['w', 'o', 'r', 'd'],\n",
        " ['w', 'o', 'r', 'd'],\n",
        " [['list'], ['of', 'lists']],\n",
        " ['a', 1])"
       ]
      }
     ],
     "prompt_number": 76
    },
    {
     "cell_type": "code",
     "collapsed": false,
     "input": [
      "a = ['heterogeneous', 3]\n",
      "a[1] + 5 "
     ],
     "language": "python",
     "metadata": {
      "slideshow": {
       "slide_type": "slide"
      }
     },
     "outputs": [
      {
       "metadata": {},
       "output_type": "pyout",
       "prompt_number": 4,
       "text": [
        "8"
       ]
      }
     ],
     "prompt_number": 4
    },
    {
     "cell_type": "code",
     "collapsed": false,
     "input": [
      "#Tuple: \n",
      "(1, 2), ('a', 1), ('remember comma',), tuple(['a', 1])"
     ],
     "language": "python",
     "metadata": {
      "slideshow": {
       "slide_type": "slide"
      }
     },
     "outputs": [
      {
       "metadata": {},
       "output_type": "pyout",
       "prompt_number": 15,
       "text": [
        "((1, 2), ('a', 1), ('remember comma',), ('a', 1))"
       ]
      }
     ],
     "prompt_number": 15
    },
    {
     "cell_type": "code",
     "collapsed": false,
     "input": [
      "#(xrange): \n",
      "for i in xrange(0, 10, 2):\n",
      "    print i"
     ],
     "language": "python",
     "metadata": {
      "slideshow": {
       "slide_type": "slide"
      }
     },
     "outputs": [
      {
       "output_type": "stream",
       "stream": "stdout",
       "text": [
        "0\n",
        "2\n",
        "4\n",
        "6\n",
        "8\n"
       ]
      }
     ],
     "prompt_number": 5
    },
    {
     "cell_type": "code",
     "collapsed": false,
     "input": [
      "# Python Result Matlab\n",
      "a = [5, 6, 7, 8] # a = [5 6 7 8]\n",
      "a[0] # 5 a(1) First element\n",
      "a[2:4] # [7, 8] a(3:4) Third and fourth\n",
      "a[-1] # 8 a(end) Last element\n",
      "a[-2] # 7 a(end-1) Second last\n",
      "a[2:] # [7, 8] a(3:end) From third element\n",
      "a[::2] # [5, 7] a(1:2:end) Every second element\n",
      "a[::-1] # [8, 7, 6, 5] a(end:-1:1) Reverse\n",
      "len(a) # 4 length(a) Length\n",
      "[min(a), max(a)] # [5, 8] [min(a) max(a)] Extreme elements"
     ],
     "language": "python",
     "metadata": {
      "slideshow": {
       "slide_type": "slide"
      }
     },
     "outputs": [
      {
       "metadata": {},
       "output_type": "pyout",
       "prompt_number": 18,
       "text": [
        "[5, 8]"
       ]
      }
     ],
     "prompt_number": 18
    },
    {
     "cell_type": "code",
     "collapsed": false,
     "input": [
      "'Qoo loves OOP'[0:4], \\\n",
      "(5, 6, 7, 8), \\\n",
      "[{1: 2}, [3, 4], 5, 'Six']"
     ],
     "language": "python",
     "metadata": {
      "slideshow": {
       "slide_type": "slide"
      }
     },
     "outputs": [
      {
       "metadata": {},
       "output_type": "pyout",
       "prompt_number": 6,
       "text": [
        "('Qoo ', (5, 6, 7, 8), [{1: 2}, [3, 4], 5, 'Six'])"
       ]
      }
     ],
     "prompt_number": 6
    },
    {
     "cell_type": "heading",
     "level": 3,
     "metadata": {
      "slideshow": {
       "slide_type": "slide"
      }
     },
     "source": [
      "Lists and Strings"
     ]
    },
    {
     "cell_type": "code",
     "collapsed": false,
     "input": [
      "a = [5, 6, 7, 8]\n",
      "a.pop() # a = [5, 6, 7]\n",
      "a.append(2) # a = [5, 6, 7, 2]\n",
      "a.sort() # a = [2, 5, 6, 7]\n",
      "a.reverse() # a = [7, 6, 5, 2]"
     ],
     "language": "python",
     "metadata": {
      "slideshow": {
       "slide_type": "slide"
      }
     },
     "outputs": [],
     "prompt_number": 20
    },
    {
     "cell_type": "code",
     "collapsed": false,
     "input": [
      "a = 'Qoo loves OOP'\n",
      "a.split(), \\\n",
      "a.upper(), \\\n",
      "a.title(),\n"
     ],
     "language": "python",
     "metadata": {
      "slideshow": {
       "slide_type": "slide"
      }
     },
     "outputs": [
      {
       "metadata": {},
       "output_type": "pyout",
       "prompt_number": 9,
       "text": [
        "(['Qoo', 'loves', 'OOP'], 'QOO LOVES OOP', 'Qoo Loves Oop')"
       ]
      }
     ],
     "prompt_number": 9
    },
    {
     "cell_type": "code",
     "collapsed": false,
     "input": [
      "import string\n",
      "a = 'Qoo loves OOP'\n",
      "string.join(a.split(), '-') # 'Qoo-loves-OOP'"
     ],
     "language": "python",
     "metadata": {
      "slideshow": {
       "slide_type": "slide"
      }
     },
     "outputs": [
      {
       "metadata": {},
       "output_type": "pyout",
       "prompt_number": 8,
       "text": [
        "'Qoo-loves-OOP'"
       ]
      }
     ],
     "prompt_number": 8
    },
    {
     "cell_type": "code",
     "collapsed": false,
     "input": [
      "a = 'Qoo loves OOP'\n",
      "#write this in one line:\n",
      "import string\n",
      "string.join(a.split(), '-') # 'DQoo-loves-OOP'\n",
      "'-'.join(a.split())"
     ],
     "language": "python",
     "metadata": {
      "slideshow": {
       "slide_type": "slide"
      }
     },
     "outputs": [
      {
       "metadata": {},
       "output_type": "pyout",
       "prompt_number": 10,
       "text": [
        "'Qoo-loves-OOP'"
       ]
      }
     ],
     "prompt_number": 10
    },
    {
     "cell_type": "code",
     "collapsed": false,
     "input": [
      "a = [1, 2, 3]\n",
      "b = a\n",
      "a[1] = 2000\n",
      "b"
     ],
     "language": "python",
     "metadata": {
      "slideshow": {
       "slide_type": "slide"
      }
     },
     "outputs": [
      {
       "metadata": {},
       "output_type": "pyout",
       "prompt_number": 24,
       "text": [
        "[1, 2000, 3]"
       ]
      }
     ],
     "prompt_number": 24
    },
    {
     "cell_type": "code",
     "collapsed": false,
     "input": [
      "#Deep Copy of a\n",
      "a = [1, 2, 3]\n",
      "\n",
      "#List \n",
      "b = a[:]\n",
      "\n",
      "#List\n",
      "b = list(a)\n",
      "\n",
      "#Extent\n",
      "b = []; b.extend(a)\n",
      "\n",
      "#Itration\n",
      "b = [];\n",
      "for n in range(len(a)):\n",
      "    b.append(a[n])\n",
      "\n",
      "#Foreach\n",
      "b = [ e for e in a ]\n",
      "b"
     ],
     "language": "python",
     "metadata": {
      "slideshow": {
       "slide_type": "slide"
      }
     },
     "outputs": [
      {
       "metadata": {},
       "output_type": "pyout",
       "prompt_number": 16,
       "text": [
        "[1, 2, 3]"
       ]
      }
     ],
     "prompt_number": 16
    },
    {
     "cell_type": "code",
     "collapsed": false,
     "input": [
      "a = [1, 2, 3]\n",
      "aa = []\n",
      "aa.append(a)\n",
      "a[1] = 2000\n",
      "aa.append(a)\n",
      "print aa"
     ],
     "language": "python",
     "metadata": {
      "slideshow": {
       "slide_type": "slide"
      }
     },
     "outputs": [
      {
       "output_type": "stream",
       "stream": "stdout",
       "text": [
        "[[1, 2000, 3], [1, 2000, 3]]\n",
        "[1, 2000, 3]\n"
       ]
      }
     ],
     "prompt_number": 23
    },
    {
     "cell_type": "code",
     "collapsed": false,
     "input": [
      "a = [1, 2, 3]\n",
      "aa = []\n",
      "aa.append(a)\n",
      "\n",
      "import copy\n",
      "aa = copy.deepcopy(aa) # Deep Copy\n",
      "a[1] = 2000\n",
      "aa.append(a)\n",
      "aa"
     ],
     "language": "python",
     "metadata": {
      "slideshow": {
       "slide_type": "slide"
      }
     },
     "outputs": [
      {
       "metadata": {},
       "output_type": "pyout",
       "prompt_number": 25,
       "text": [
        "[[1, 2, 3], [1, 2000, 3]]"
       ]
      }
     ],
     "prompt_number": 25
    },
    {
     "cell_type": "code",
     "collapsed": false,
     "input": [
      "for n in range(1000000000): # Using xrange instead\n",
      "    print(n)"
     ],
     "language": "python",
     "metadata": {
      "slideshow": {
       "slide_type": "slide"
      }
     },
     "outputs": [
      {
       "ename": "MemoryError",
       "evalue": "",
       "output_type": "pyerr",
       "traceback": [
        "\u001b[1;31m---------------------------------------------------------------------------\u001b[0m\n\u001b[1;31mMemoryError\u001b[0m                               Traceback (most recent call last)",
        "\u001b[1;32m<ipython-input-29-7d80dc0462bc>\u001b[0m in \u001b[0;36m<module>\u001b[1;34m()\u001b[0m\n\u001b[1;32m----> 1\u001b[1;33m \u001b[1;32mfor\u001b[0m \u001b[0mn\u001b[0m \u001b[1;32min\u001b[0m \u001b[0mrange\u001b[0m\u001b[1;33m(\u001b[0m\u001b[1;36m1000000000\u001b[0m\u001b[1;33m)\u001b[0m\u001b[1;33m:\u001b[0m\u001b[1;33m\u001b[0m\u001b[0m\n\u001b[0m\u001b[0;32m      2\u001b[0m     \u001b[1;32mprint\u001b[0m\u001b[1;33m(\u001b[0m\u001b[0mn\u001b[0m\u001b[1;33m)\u001b[0m\u001b[1;33m\u001b[0m\u001b[0m\n",
        "\u001b[1;31mMemoryError\u001b[0m: "
       ]
      }
     ],
     "prompt_number": 29
    },
    {
     "cell_type": "heading",
     "level": 3,
     "metadata": {
      "slideshow": {
       "slide_type": "slide"
      }
     },
     "source": [
      "Data types"
     ]
    },
    {
     "cell_type": "code",
     "collapsed": false,
     "input": [
      "#Dictionary (Python hash): \n",
      "{}, { 'three': 3, 5: 'five'}, \\\n",
      "{'one': 'two', 'three': 'four'}, \\\n",
      "dict([['one', 'two' ], ['three', 'four']])"
     ],
     "language": "python",
     "metadata": {
      "slideshow": {
       "slide_type": "slide"
      }
     },
     "outputs": [
      {
       "metadata": {},
       "output_type": "pyout",
       "prompt_number": 32,
       "text": [
        "({},\n",
        " {5: 'five', 'three': 3},\n",
        " {'one': 'two', 'three': 'four'},\n",
        " {'one': 'two', 'three': 'four'})"
       ]
      }
     ],
     "prompt_number": 32
    },
    {
     "cell_type": "code",
     "collapsed": false,
     "input": [
      "#Set (distinct unordered): \n",
      "set(), set([1, 2]), set([2, 1]),\\\n",
      "set((2, 1)), set(range(0,5)) - set(range(4,10)),\\\n",
      "set([1, 2]) | set([3, 4])"
     ],
     "language": "python",
     "metadata": {
      "slideshow": {
       "slide_type": "slide"
      }
     },
     "outputs": [
      {
       "metadata": {},
       "output_type": "pyout",
       "prompt_number": 33,
       "text": [
        "(set(), {1, 2}, {1, 2}, {1, 2}, {0, 1, 2, 3}, {1, 2, 3, 4})"
       ]
      }
     ],
     "prompt_number": 33
    },
    {
     "cell_type": "code",
     "collapsed": false,
     "input": [
      "#Frozenset (immutable): \n",
      "frozenset(), frozenset([1, 2]), \\\n",
      "frozenset([frozenset([1, 2]), frozenset([1, 2, 3])])"
     ],
     "language": "python",
     "metadata": {
      "slideshow": {
       "slide_type": "slide"
      }
     },
     "outputs": [
      {
       "metadata": {},
       "output_type": "pyout",
       "prompt_number": 34,
       "text": [
        "(frozenset(),\n",
        " frozenset({1, 2}),\n",
        " frozenset({frozenset({1, 2}), frozenset({1, 2, 3})}))"
       ]
      }
     ],
     "prompt_number": 34
    },
    {
     "cell_type": "code",
     "collapsed": false,
     "input": [
      "a = {'one': 'two', 'three': 'four'}\n",
      "a.keys(), a.values()"
     ],
     "language": "python",
     "metadata": {
      "slideshow": {
       "slide_type": "slide"
      }
     },
     "outputs": [
      {
       "metadata": {},
       "output_type": "pyout",
       "prompt_number": 35,
       "text": [
        "(['three', 'one'], ['four', 'two'])"
       ]
      }
     ],
     "prompt_number": 35
    },
    {
     "cell_type": "code",
     "collapsed": false,
     "input": [
      "d = {'Taiwan': 'Taipei', 'Japan': 'Tokyo'}\n",
      "\n",
      "for (k,v) in d.items():\n",
      "    print(k + ' has the capital ' + v)"
     ],
     "language": "python",
     "metadata": {
      "slideshow": {
       "slide_type": "slide"
      }
     },
     "outputs": [
      {
       "output_type": "stream",
       "stream": "stdout",
       "text": [
        "Japan has the capital Tokyo\n",
        "Taiwan has the capital Taipei\n"
       ]
      }
     ],
     "prompt_number": 37
    },
    {
     "cell_type": "heading",
     "level": 3,
     "metadata": {
      "slideshow": {
       "slide_type": "slide"
      }
     },
     "source": [
      "Control Structure"
     ]
    },
    {
     "cell_type": "code",
     "collapsed": false,
     "input": [
      "#if - else\n",
      "a = 9\n",
      "for i in range(-1,2):\n",
      "    if i == a:\n",
      "        print(str(a) + ' found!')\n",
      "        break\n",
      "    else:\n",
      "        print(str(a) + ' was not in the list')"
     ],
     "language": "python",
     "metadata": {
      "slideshow": {
       "slide_type": "slide"
      }
     },
     "outputs": [
      {
       "output_type": "stream",
       "stream": "stdout",
       "text": [
        "9 was not in the list\n",
        "9 was not in the list\n",
        "9 was not in the list\n"
       ]
      }
     ],
     "prompt_number": 40
    },
    {
     "cell_type": "heading",
     "level": 3,
     "metadata": {
      "slideshow": {
       "slide_type": "slide"
      }
     },
     "source": [
      "Function"
     ]
    },
    {
     "cell_type": "code",
     "collapsed": false,
     "input": [
      "def printfunc():\n",
      "    print '###'\n",
      "    \n",
      "printfunc()"
     ],
     "language": "python",
     "metadata": {
      "slideshow": {
       "slide_type": "slide"
      }
     },
     "outputs": [
      {
       "output_type": "stream",
       "stream": "stdout",
       "text": [
        "###\n"
       ]
      }
     ],
     "prompt_number": 42
    },
    {
     "cell_type": "code",
     "collapsed": false,
     "input": [
      "def addNum(a,b):\n",
      "    print a+b\n",
      "    \n",
      "addNum(2,3)"
     ],
     "language": "python",
     "metadata": {
      "slideshow": {
       "slide_type": "slide"
      }
     },
     "outputs": [
      {
       "output_type": "stream",
       "stream": "stdout",
       "text": [
        "5\n"
       ]
      }
     ],
     "prompt_number": 43
    },
    {
     "cell_type": "code",
     "collapsed": false,
     "input": [
      "#Function call with a variable number of input arguments\n",
      "def myunion(x, *args):\n",
      "    u = set(x)\n",
      "    for y in args:\n",
      "        u = u.union(set(y))\n",
      "    return u\n",
      "\n",
      "myunion([1]), myunion([1], [1, 2, 4], [3, 4])"
     ],
     "language": "python",
     "metadata": {
      "slideshow": {
       "slide_type": "slide"
      }
     },
     "outputs": [
      {
       "metadata": {},
       "output_type": "pyout",
       "prompt_number": 45,
       "text": [
        "({1}, {1, 2, 3, 4})"
       ]
      }
     ],
     "prompt_number": 45
    },
    {
     "cell_type": "code",
     "collapsed": false,
     "input": [
      "#unknown named arguments\n",
      "def my_key_union(x, **kwargs):\n",
      "    union = set(x)\n",
      "    for key, value in kwargs.items():\n",
      "        if value:\n",
      "            union.add(key)\n",
      "    return union\n",
      "\n",
      "#Example call:\n",
      "my_key_union(['the'], stop=True, halt=False)\n"
     ],
     "language": "python",
     "metadata": {
      "slideshow": {
       "slide_type": "slide"
      }
     },
     "outputs": [
      {
       "metadata": {},
       "output_type": "pyout",
       "prompt_number": 46,
       "text": [
        "{'stop', 'the'}"
       ]
      }
     ],
     "prompt_number": 46
    },
    {
     "cell_type": "code",
     "collapsed": false,
     "input": [
      "# OOP and Overloading\n",
      "class MyInteger():\n",
      "    def __init__(self, integer):\n",
      "        print \"constructor\"\n",
      "        self.integer = integer\n",
      "    def __add__(self, integer): # Overloaded '+' operator\n",
      "        if self.integer == 2 and integer == 2:\n",
      "            return 5\n",
      "        else:\n",
      "            return self.integer + integer\n",
      "\n",
      "a = MyInteger(3)\n",
      "print a+5"
     ],
     "language": "python",
     "metadata": {
      "slideshow": {
       "slide_type": "slide"
      }
     },
     "outputs": [
      {
       "output_type": "stream",
       "stream": "stdout",
       "text": [
        "constructor\n",
        "8\n"
       ]
      }
     ],
     "prompt_number": 47
    },
    {
     "cell_type": "markdown",
     "metadata": {
      "slideshow": {
       "slide_type": "slide"
      }
     },
     "source": [
      "##Methods and variables in classes\n",
      "\n",
      "* __init__() Constructor, called when an instance is made\n",
      "* __class__ Type of object, e.g., <type 'list'>\n",
      "* __doc__ The documention string: used for help()\n",
      "* __str__() Method used for the print function\n",
      "* __getitem__() Get element: a.__getitem__(2) the same as a[2]\n",
      "* __call__() The method called when the object is a function"
     ]
    },
    {
     "cell_type": "code",
     "collapsed": false,
     "input": [
      "class Person():\n",
      "    count = 0 # Static/class variable\n",
      "    def __init__(self, name, city):\n",
      "        self.name = name # Variable for the instance\n",
      "        self.city = city # Variable for the instance\n",
      "        Person.count += 1\n",
      "    def number_of_persons(self):\n",
      "        return Person.count\n",
      "\n",
      "First = Person(\"David\", \"Chiayi\")\n",
      "First.number_of_persons() # 1\n",
      "\n",
      "Second = Person(\"QOO\", \"coca-cola\")\n",
      "Second.number_of_persons() # 2\n",
      "First.name"
     ],
     "language": "python",
     "metadata": {
      "slideshow": {
       "slide_type": "slide"
      }
     },
     "outputs": [
      {
       "metadata": {},
       "output_type": "pyout",
       "prompt_number": 49,
       "text": [
        "'David'"
       ]
      }
     ],
     "prompt_number": 49
    },
    {
     "cell_type": "code",
     "collapsed": false,
     "input": [
      "#Derived Classes\n",
      "class Vehicle():\n",
      "    def my_own(self): return True\n",
      "    \n",
      "class Bicycle(Vehicle):\n",
      "    def __init__(self, color): self.color = color\n",
      "    def has_wheels(self): return True\n",
      "\n",
      "class rent_bike(Bicycle):\n",
      "    def my_own(self): return False\n",
      "    \n",
      "Ubike = rent_bike('yellow')\n",
      "Ubike.my_own()\n"
     ],
     "language": "python",
     "metadata": {
      "slideshow": {
       "slide_type": "slide"
      }
     },
     "outputs": [
      {
       "metadata": {},
       "output_type": "pyout",
       "prompt_number": 56,
       "text": [
        "False"
       ]
      }
     ],
     "prompt_number": 56
    },
    {
     "cell_type": "heading",
     "level": 3,
     "metadata": {
      "slideshow": {
       "slide_type": "slide"
      }
     },
     "source": [
      "File Processing"
     ]
    },
    {
     "cell_type": "code",
     "collapsed": false,
     "input": [
      "#Writing Hello World Into Txt\n",
      "fid = open('test.txt', 'w')\n",
      "fid.write('Hello\\nWorld')\n",
      "fid.close()"
     ],
     "language": "python",
     "metadata": {
      "slideshow": {
       "slide_type": "slide"
      }
     },
     "outputs": [],
     "prompt_number": 57
    },
    {
     "cell_type": "code",
     "collapsed": false,
     "input": [
      "#Load Hello World\n",
      "fid = open('test.txt', 'r')\n",
      "for line in fid: # Using file identifier as iterator\n",
      "    print(\"Line: \" + line.strip())\n",
      "fid.close()"
     ],
     "language": "python",
     "metadata": {
      "slideshow": {
       "slide_type": "slide"
      }
     },
     "outputs": [
      {
       "output_type": "stream",
       "stream": "stdout",
       "text": [
        "Line: Hello\n",
        "Line: World\n"
       ]
      }
     ],
     "prompt_number": 58
    },
    {
     "cell_type": "code",
     "collapsed": false,
     "input": [
      "fid = open('test.txt', 'r')\n",
      "s = fid.read() # Read the entire file\n",
      "fid.close()\n",
      "print \"line\",s"
     ],
     "language": "python",
     "metadata": {
      "slideshow": {
       "slide_type": "slide"
      }
     },
     "outputs": [
      {
       "output_type": "stream",
       "stream": "stdout",
       "text": [
        "line Hello\n",
        "World\n"
       ]
      }
     ],
     "prompt_number": 61
    },
    {
     "cell_type": "code",
     "collapsed": false,
     "input": [
      "#Line Counting\n",
      "fid = open('test.txt')\n",
      "k = 0\n",
      "for line in fid:\n",
      "    k = k + 1\n",
      "print(k)"
     ],
     "language": "python",
     "metadata": {
      "slideshow": {
       "slide_type": "slide"
      }
     },
     "outputs": [
      {
       "output_type": "stream",
       "stream": "stdout",
       "text": [
        "2\n"
       ]
      }
     ],
     "prompt_number": 63
    },
    {
     "cell_type": "code",
     "collapsed": false,
     "input": [
      "print len([ line for line in open('test.txt')])"
     ],
     "language": "python",
     "metadata": {
      "slideshow": {
       "slide_type": "slide"
      }
     },
     "outputs": [
      {
       "output_type": "stream",
       "stream": "stdout",
       "text": [
        "2\n"
       ]
      }
     ],
     "prompt_number": 64
    },
    {
     "cell_type": "heading",
     "level": 3,
     "metadata": {
      "slideshow": {
       "slide_type": "slide"
      }
     },
     "source": [
      "Exception"
     ]
    },
    {
     "cell_type": "code",
     "collapsed": false,
     "input": [
      "try:\n",
      "    [ int(line) for line in open('test.txt') ] #You may remove int to see what happen\n",
      "except IOError, message:\n",
      "    print('An IO error', message)\n",
      "except ValueError, message:\n",
      "    print('A value error', message)\n",
      "else:\n",
      "    print('Succes')"
     ],
     "language": "python",
     "metadata": {
      "slideshow": {
       "slide_type": "slide"
      }
     },
     "outputs": [
      {
       "output_type": "stream",
       "stream": "stdout",
       "text": [
        "Succes\n"
       ]
      }
     ],
     "prompt_number": 67
    },
    {
     "cell_type": "code",
     "collapsed": false,
     "input": [
      "try:\n",
      "    [ int(line) for line in open('test.txt') ] #You may remove int to see what happen\n",
      "except IOError, message:\n",
      "    print('An IO error', message)\n",
      "except:\n",
      "    print('A value error', message)\n",
      "else:\n",
      "    print('Succes')\n",
      "    #raise RuntimeError, 'Another error'"
     ],
     "language": "python",
     "metadata": {
      "slideshow": {
       "slide_type": "slide"
      }
     },
     "outputs": [
      {
       "output_type": "stream",
       "stream": "stdout",
       "text": [
        "('A value error', ValueError(\"invalid literal for int() with base 10: 'Hello\\\\n'\",))\n"
       ]
      }
     ],
     "prompt_number": 71
    },
    {
     "cell_type": "code",
     "collapsed": false,
     "input": [
      "def mydivide(a, b):\n",
      "    try:\n",
      "        return float(a)/b\n",
      "    except ZeroDivisionError:\n",
      "        return float('nan')\n",
      "    except Exception, e:\n",
      "        print 'Error:', e\n",
      "        \n",
      "#print(1./0)\n",
      "mydivide(1,0)\n"
     ],
     "language": "python",
     "metadata": {
      "slideshow": {
       "slide_type": "slide"
      }
     },
     "outputs": [
      {
       "metadata": {},
       "output_type": "pyout",
       "prompt_number": 75,
       "text": [
        "nan"
       ]
      }
     ],
     "prompt_number": 75
    },
    {
     "cell_type": "code",
     "collapsed": false,
     "input": [
      "import random\n",
      "import matplotlib.pyplot as plt\n",
      "def randomwalk():\n",
      "    x = 0\n",
      "    while True:\n",
      "        yield x # 'yield' instead of 'return'\n",
      "        x += 2 * (random.random() > 0.5) - 1\n",
      "rw = randomwalk() # 'rw' is a iterator-like object\n",
      "awalk = [ rw.next() for n in range(100) ]\n",
      "plt.plot(awalk); plt.show()"
     ],
     "language": "python",
     "metadata": {},
     "outputs": [],
     "prompt_number": 1
    },
    {
     "cell_type": "code",
     "collapsed": false,
     "input": [],
     "language": "python",
     "metadata": {},
     "outputs": []
    }
   ],
   "metadata": {}
  }
 ]
}